{
 "cells": [
  {
   "cell_type": "markdown",
   "id": "91d9fc34-5a51-47f2-b359-a81a81db6fba",
   "metadata": {},
   "source": [
    "# GIS Data Type - Vector Data & Raster Data"
   ]
  },
  {
   "cell_type": "markdown",
   "id": "a480625f-0c05-421d-b315-a050d0c0214b",
   "metadata": {},
   "source": [
    "Author: Fangzheng Lyu\n",
    "\n",
    "In Geographic Information Science (GIS), data types refer to the different ways in which geographic data can be represented and stored. The two main data types in GIS are:\n",
    "\n",
    "<b>Vector Data</b> represents geographic features as points, lines, and polygons.\n",
    "- <b>Point Data</b> are used to represent discrete locations, such as cities, landmarks, or specific coordinates.\n",
    "- <b>Line Data</b> are used to represent linear features, such as roads, rivers.\n",
    "- <b>Polygons</b> are used to represent areas or regions, such as countries, states, or land parcels.\n",
    "\n",
    "\n",
    "<b>Raster Data</b> represents geographic information as a grid of cells or pixels, where each cell contains a value.\n",
    "- <b>Continuous Raster Data</b> are used to represent continuous surfaces or phenomena, such as elevation, temperature, or satellite imagery.\n",
    "- <b>Discrete Raster Data</b> are used to represent discrete rasters that have a specific theme or class, and each pixel is assigned to a specific class such as land cover/land use map.\n"
   ]
  },
  {
   "cell_type": "markdown",
   "id": "3fd6e8c6-5a2d-4cac-8bc9-329da08a7c5f",
   "metadata": {
    "tags": []
   },
   "source": [
    "## Notebook Outline\n",
    "- [Vector Data](#vector)\n",
    "    - [Point Data](#point)\n",
    "    - [Line Data](#line)\n",
    "    - [Polygon Data](#polygon)\n",
    "- [Raster Data](#raster)\n",
    "    - [Continuous Raster Data](#continuous)\n",
    "    - [Discrete Raster Data](#discrete)"
   ]
  },
  {
   "cell_type": "code",
   "execution_count": 1,
   "id": "3274cf45-0890-4fe5-9ff9-8ab8bddd3abf",
   "metadata": {},
   "outputs": [
    {
     "name": "stdout",
     "output_type": "stream",
     "text": [
      "Defaulting to user installation because normal site-packages is not writeable\n",
      "Requirement already satisfied: geopandas==0.13.2 in /home/jovyan/.local/iguide/lib/python3.8/site-packages (0.13.2)\n",
      "Requirement already satisfied: fiona>=1.8.19 in /cvmfs/iguide.purdue.edu/software/conda/iguide/lib/python3.8/site-packages (from geopandas==0.13.2) (1.9.4)\n",
      "Requirement already satisfied: packaging in /cvmfs/iguide.purdue.edu/software/conda/iguide/lib/python3.8/site-packages (from geopandas==0.13.2) (23.1)\n",
      "Requirement already satisfied: pandas>=1.1.0 in /cvmfs/iguide.purdue.edu/software/conda/iguide/lib/python3.8/site-packages (from geopandas==0.13.2) (2.0.2)\n",
      "Requirement already satisfied: pyproj>=3.0.1 in /cvmfs/iguide.purdue.edu/software/conda/iguide/lib/python3.8/site-packages (from geopandas==0.13.2) (3.5.0)\n",
      "Requirement already satisfied: shapely>=1.7.1 in /cvmfs/iguide.purdue.edu/software/conda/iguide/lib/python3.8/site-packages (from geopandas==0.13.2) (2.0.1)\n",
      "Requirement already satisfied: attrs>=19.2.0 in /cvmfs/iguide.purdue.edu/software/conda/iguide/lib/python3.8/site-packages (from fiona>=1.8.19->geopandas==0.13.2) (23.1.0)\n",
      "Requirement already satisfied: certifi in /cvmfs/iguide.purdue.edu/software/conda/iguide/lib/python3.8/site-packages (from fiona>=1.8.19->geopandas==0.13.2) (2023.5.7)\n",
      "Requirement already satisfied: click~=8.0 in /cvmfs/iguide.purdue.edu/software/conda/iguide/lib/python3.8/site-packages (from fiona>=1.8.19->geopandas==0.13.2) (8.1.3)\n",
      "Requirement already satisfied: click-plugins>=1.0 in /cvmfs/iguide.purdue.edu/software/conda/iguide/lib/python3.8/site-packages (from fiona>=1.8.19->geopandas==0.13.2) (1.1.1)\n",
      "Requirement already satisfied: cligj>=0.5 in /cvmfs/iguide.purdue.edu/software/conda/iguide/lib/python3.8/site-packages (from fiona>=1.8.19->geopandas==0.13.2) (0.7.2)\n",
      "Requirement already satisfied: six in /cvmfs/iguide.purdue.edu/software/conda/iguide/lib/python3.8/site-packages (from fiona>=1.8.19->geopandas==0.13.2) (1.16.0)\n",
      "Requirement already satisfied: importlib-metadata in /cvmfs/iguide.purdue.edu/software/conda/iguide/lib/python3.8/site-packages (from fiona>=1.8.19->geopandas==0.13.2) (6.6.0)\n",
      "Requirement already satisfied: python-dateutil>=2.8.2 in /cvmfs/iguide.purdue.edu/software/conda/iguide/lib/python3.8/site-packages (from pandas>=1.1.0->geopandas==0.13.2) (2.8.2)\n",
      "Requirement already satisfied: pytz>=2020.1 in /cvmfs/iguide.purdue.edu/software/conda/iguide/lib/python3.8/site-packages (from pandas>=1.1.0->geopandas==0.13.2) (2023.3)\n",
      "Requirement already satisfied: tzdata>=2022.1 in /cvmfs/iguide.purdue.edu/software/conda/iguide/lib/python3.8/site-packages (from pandas>=1.1.0->geopandas==0.13.2) (2023.3)\n",
      "Requirement already satisfied: numpy>=1.20.3 in /cvmfs/iguide.purdue.edu/software/conda/iguide/lib/python3.8/site-packages (from pandas>=1.1.0->geopandas==0.13.2) (1.24.3)\n",
      "Requirement already satisfied: zipp>=0.5 in /cvmfs/iguide.purdue.edu/software/conda/iguide/lib/python3.8/site-packages (from importlib-metadata->fiona>=1.8.19->geopandas==0.13.2) (3.15.0)\n"
     ]
    }
   ],
   "source": [
    "!pip install geopandas==0.13.2"
   ]
  },
  {
   "cell_type": "code",
   "execution_count": 2,
   "id": "00d50263-9b90-46af-80c2-fd61a1ebbca4",
   "metadata": {},
   "outputs": [
    {
     "name": "stderr",
     "output_type": "stream",
     "text": [
      "/tmp/ipykernel_1323/3328501683.py:5: DeprecationWarning: Shapely 2.0 is installed, but because PyGEOS is also installed, GeoPandas still uses PyGEOS by default. However, starting with version 0.14, the default will switch to Shapely. To force to use Shapely 2.0 now, you can either uninstall PyGEOS or set the environment variable USE_PYGEOS=0. You can do this before starting the Python process, or in your code before importing geopandas:\n",
      "\n",
      "import os\n",
      "os.environ['USE_PYGEOS'] = '0'\n",
      "import geopandas\n",
      "\n",
      "In the next release, GeoPandas will switch to using Shapely by default, even if PyGEOS is installed. If you only have PyGEOS installed to get speed-ups, this switch should be smooth. However, if you are using PyGEOS directly (calling PyGEOS functions on geometries from GeoPandas), this will then stop working and you are encouraged to migrate from PyGEOS to Shapely 2.0 (https://shapely.readthedocs.io/en/latest/migration_pygeos.html).\n",
      "  import geopandas as gpd\n"
     ]
    }
   ],
   "source": [
    "## Import Library\n",
    "import pytz\n",
    "from datetime import datetime, timedelta\n",
    "import os\n",
    "import geopandas as gpd\n",
    "import json\n",
    "from shapely.geometry import Polygon, Point, MultiPolygon\n",
    "import shapefile\n",
    "import re\n",
    "import shapefile as shp  # Requires the pyshp package\n",
    "import matplotlib.pyplot as plt\n",
    "import pandas as pd\n",
    "import geopandas as gpd\n",
    "import matplotlib.colors as mcolors\n",
    "import numpy as np\n",
    "import random\n",
    "import csv\n",
    "from urllib.request import urlopen"
   ]
  },
  {
   "cell_type": "markdown",
   "id": "53e8f960-d788-416f-9f7d-ff92523c3700",
   "metadata": {
    "tags": []
   },
   "source": [
    "<a id='vector'></a>\n",
    "\n",
    "## 1. Vector Data"
   ]
  },
  {
   "cell_type": "markdown",
   "id": "fe022d9e-a7ed-48d6-af19-fc4d8d6cd0e0",
   "metadata": {},
   "source": [
    "Vector data in GIS (Geographic Information Systems) refers to the digital representation of geographic features using geometrical primitives such as points, lines, and polygons. Unlike raster data, which represents spatial data as a grid of cells or pixels, vector data stores the precise coordinates of the vertices that define the shape and location of geographic features."
   ]
  },
  {
   "cell_type": "markdown",
   "id": "9f62f328-18ae-42ba-8abf-ec747ef46b71",
   "metadata": {},
   "source": [
    "<a id='point'></a>\n",
    "\n",
    "### 1.1. Point Data"
   ]
  },
  {
   "cell_type": "markdown",
   "id": "8020ba79-f89e-43dc-8cbc-25e62251c2ac",
   "metadata": {
    "tags": []
   },
   "source": [
    "### Twitter Data as Point Data"
   ]
  },
  {
   "cell_type": "code",
   "execution_count": 3,
   "id": "fa52c88b-b834-43dc-82b7-071df4d51ba7",
   "metadata": {},
   "outputs": [],
   "source": [
    "## Use an example, could add more if you want to involves more social media data\n",
    "filelist = ['250000-tweets-2021-09-25_01-48-23.json']"
   ]
  },
  {
   "cell_type": "code",
   "execution_count": 4,
   "id": "bced7ff6-8027-476e-b9ed-a0f319ac63d6",
   "metadata": {},
   "outputs": [
    {
     "name": "stdout",
     "output_type": "stream",
     "text": [
      "./data/250000-tweets-2021-09-25_01-48-23.json\n"
     ]
    }
   ],
   "source": [
    "## Use the file on \n",
    "\n",
    "## Create a dictionary for storing all Twitter with index = GEOID\n",
    "\n",
    "point_data = []\n",
    "polygon_data = []\n",
    "\n",
    "# Opening JSON file\n",
    "for filename in filelist:\n",
    "    filepath = \"./data/\"+filename\n",
    "    print(filepath)\n",
    "    #print(len(heat_twitter))\n",
    "    f = open(filepath)\n",
    "    data = json.load(f)\n",
    "    \n",
    "    \n",
    "    for i in range(0, len(data)):\n",
    "        #if (i%50000 == 0):\n",
    "        #    print(i)\n",
    "        try:\n",
    "            \n",
    "            ##Need to deal with case when the shapefile is too big\n",
    "            text = data[i][\"text\"]\n",
    "            exact_loc = -1\n",
    "            ## Case 1\n",
    "            ## Twitter with exact geospatial location\n",
    "            if (data[i]['geo']!=None):\n",
    "                lat = data[i]['geo']['coordinates'][0]\n",
    "                lon = data[i]['geo']['coordinates'][1]\n",
    "                exact_loc = Point(lon, lat)\n",
    "                point_data.append(exact_loc)\n",
    "            elif (data[i]['place']!=None):\n",
    "                ## Twitter with a polygon bounding box\n",
    "                ## We check which county the centroid of the point lies in\n",
    "                poly = MultiPolygondata[i]['place']['bounding_box'][\"coordinates\"][0]\n",
    "                polygon_data.append(poly)\n",
    "        except:\n",
    "            ## no geographical location\n",
    "            pass\n",
    "    # Closing file\n",
    "    f.close()"
   ]
  },
  {
   "cell_type": "code",
   "execution_count": 5,
   "id": "75f6bb86-d044-43ac-a13e-adf45adcbf5b",
   "metadata": {},
   "outputs": [
    {
     "data": {
      "text/plain": [
       "19081"
      ]
     },
     "execution_count": 5,
     "metadata": {},
     "output_type": "execute_result"
    }
   ],
   "source": [
    "len(point_data)"
   ]
  },
  {
   "cell_type": "code",
   "execution_count": 6,
   "id": "23ccb6c9-62e2-4235-8f88-8e464bcefee2",
   "metadata": {},
   "outputs": [
    {
     "data": {
      "image/svg+xml": [
       "<svg xmlns=\"http://www.w3.org/2000/svg\" xmlns:xlink=\"http://www.w3.org/1999/xlink\" width=\"100.0\" height=\"100.0\" viewBox=\"75.1167 30.6833 2.0 2.0000000000000036\" preserveAspectRatio=\"xMinYMin meet\"><g transform=\"matrix(1,0,0,-1,0,63.366600000000005)\"><circle cx=\"76.1167\" cy=\"31.6833\" r=\"0.06000000000000011\" stroke=\"#555555\" stroke-width=\"0.020000000000000035\" fill=\"#66cc99\" opacity=\"0.6\" /></g></svg>"
      ],
      "text/plain": [
       "<POINT (76.117 31.683)>"
      ]
     },
     "execution_count": 6,
     "metadata": {},
     "output_type": "execute_result"
    }
   ],
   "source": [
    "point_data[0]"
   ]
  },
  {
   "cell_type": "code",
   "execution_count": 7,
   "id": "1b1a6895-a35b-4658-9acb-d223bcaa4961",
   "metadata": {},
   "outputs": [
    {
     "data": {
      "text/plain": [
       "(76.1167, 31.6833)"
      ]
     },
     "execution_count": 7,
     "metadata": {},
     "output_type": "execute_result"
    }
   ],
   "source": [
    "point_data[0].x, point_data[0].y"
   ]
  },
  {
   "cell_type": "markdown",
   "id": "e13313a8-2d7e-4a40-a026-bf762030833f",
   "metadata": {
    "tags": []
   },
   "source": [
    "<a id='line'></a>\n",
    "\n",
    "### 1.2. Line Data"
   ]
  },
  {
   "cell_type": "markdown",
   "id": "0f3e66bb-b631-4893-8a46-42c94aafccb6",
   "metadata": {},
   "source": [
    "### US Primary Road Network"
   ]
  },
  {
   "cell_type": "code",
   "execution_count": 8,
   "id": "51397cfa-742f-47ac-a616-f458110f6acd",
   "metadata": {},
   "outputs": [
    {
     "data": {
      "image/png": "[encoded data removed]",
      "text/plain": [
       "<Figure size 640x480 with 1 Axes>"
      ]
     },
     "metadata": {},
     "output_type": "display_data"
    }
   ],
   "source": [
    "url_road = r'https://www2.census.gov/geo/tiger/TIGER2019/PRIMARYROADS/tl_2019_us_primaryroads.zip'\n",
    "road = gpd.read_file(url_road)\n",
    "road.plot()\n",
    "plt.show()"
   ]
  },
  {
   "cell_type": "code",
   "execution_count": 9,
   "id": "293dd7d2-3ddc-4fcf-822b-fdc7b9bfa671",
   "metadata": {},
   "outputs": [
    {
     "data": {
      "text/html": [
       "<div>\n",
       "<style scoped>\n",
       "    .dataframe tbody tr th:only-of-type {\n",
       "        vertical-align: middle;\n",
       "    }\n",
       "\n",
       "    .dataframe tbody tr th {\n",
       "        vertical-align: top;\n",
       "    }\n",
       "\n",
       "    .dataframe thead th {\n",
       "        text-align: right;\n",
       "    }\n",
       "</style>\n",
       "<table border=\"1\" class=\"dataframe\">\n",
       "  <thead>\n",
       "    <tr style=\"text-align: right;\">\n",
       "      <th></th>\n",
       "      <th>LINEARID</th>\n",
       "      <th>FULLNAME</th>\n",
       "      <th>RTTYP</th>\n",
       "      <th>MTFCC</th>\n",
       "      <th>geometry</th>\n",
       "    </tr>\n",
       "  </thead>\n",
       "  <tbody>\n",
       "    <tr>\n",
       "      <th>0</th>\n",
       "      <td>1104430641961</td>\n",
       "      <td>State Hwy 42</td>\n",
       "      <td>S</td>\n",
       "      <td>S1100</td>\n",
       "      <td>LINESTRING (-89.34466 31.35903, -89.34374 31.3...</td>\n",
       "    </tr>\n",
       "    <tr>\n",
       "      <th>1</th>\n",
       "      <td>1104430639695</td>\n",
       "      <td>State Hwy 42</td>\n",
       "      <td>S</td>\n",
       "      <td>S1100</td>\n",
       "      <td>LINESTRING (-89.32506 31.37999, -89.32826 31.3...</td>\n",
       "    </tr>\n",
       "    <tr>\n",
       "      <th>2</th>\n",
       "      <td>1108296451323</td>\n",
       "      <td>State Hwy 67</td>\n",
       "      <td>S</td>\n",
       "      <td>S1100</td>\n",
       "      <td>LINESTRING (-88.49978 43.14901, -88.49788 43.1...</td>\n",
       "    </tr>\n",
       "    <tr>\n",
       "      <th>3</th>\n",
       "      <td>1108296451337</td>\n",
       "      <td>State Hwy 67</td>\n",
       "      <td>S</td>\n",
       "      <td>S1100</td>\n",
       "      <td>LINESTRING (-88.49978 43.14878, -88.49820 43.1...</td>\n",
       "    </tr>\n",
       "    <tr>\n",
       "      <th>4</th>\n",
       "      <td>1109097223373</td>\n",
       "      <td>State Hwy 114</td>\n",
       "      <td>S</td>\n",
       "      <td>S1100</td>\n",
       "      <td>LINESTRING (-97.18355 32.98982, -97.18214 32.9...</td>\n",
       "    </tr>\n",
       "    <tr>\n",
       "      <th>...</th>\n",
       "      <td>...</td>\n",
       "      <td>...</td>\n",
       "      <td>...</td>\n",
       "      <td>...</td>\n",
       "      <td>...</td>\n",
       "    </tr>\n",
       "    <tr>\n",
       "      <th>17490</th>\n",
       "      <td>11013473368094</td>\n",
       "      <td>I- 25 (Express Lanes)</td>\n",
       "      <td>I</td>\n",
       "      <td>S1100</td>\n",
       "      <td>LINESTRING (-105.00571 39.76043, -105.00484 39...</td>\n",
       "    </tr>\n",
       "    <tr>\n",
       "      <th>17491</th>\n",
       "      <td>1104271365671</td>\n",
       "      <td>I- 25 (Express Lanes)</td>\n",
       "      <td>I</td>\n",
       "      <td>S1100</td>\n",
       "      <td>LINESTRING (-104.98859 39.79109, -104.98831 39...</td>\n",
       "    </tr>\n",
       "    <tr>\n",
       "      <th>17492</th>\n",
       "      <td>1109094380320</td>\n",
       "      <td>Homestead Extension of Florida's Tpke</td>\n",
       "      <td>M</td>\n",
       "      <td>S1100</td>\n",
       "      <td>LINESTRING (-80.34125 25.95717, -80.34196 25.9...</td>\n",
       "    </tr>\n",
       "    <tr>\n",
       "      <th>17493</th>\n",
       "      <td>1108296486865</td>\n",
       "      <td>Homestead Extension of Florida's Tpke</td>\n",
       "      <td>M</td>\n",
       "      <td>S1100</td>\n",
       "      <td>LINESTRING (-80.34088 25.95715, -80.33988 25.9...</td>\n",
       "    </tr>\n",
       "    <tr>\n",
       "      <th>17494</th>\n",
       "      <td>1108296486869</td>\n",
       "      <td>Homestead Extension of Florida's Tpke</td>\n",
       "      <td>M</td>\n",
       "      <td>S1100</td>\n",
       "      <td>LINESTRING (-80.24078 25.97268, -80.24657 25.9...</td>\n",
       "    </tr>\n",
       "  </tbody>\n",
       "</table>\n",
       "<p>17495 rows × 5 columns</p>\n",
       "</div>"
      ],
      "text/plain": [
       "             LINEARID                               FULLNAME RTTYP  MTFCC  \\\n",
       "0       1104430641961                           State Hwy 42     S  S1100   \n",
       "1       1104430639695                           State Hwy 42     S  S1100   \n",
       "2       1108296451323                           State Hwy 67     S  S1100   \n",
       "3       1108296451337                           State Hwy 67     S  S1100   \n",
       "4       1109097223373                          State Hwy 114     S  S1100   \n",
       "...               ...                                    ...   ...    ...   \n",
       "17490  11013473368094                  I- 25 (Express Lanes)     I  S1100   \n",
       "17491   1104271365671                  I- 25 (Express Lanes)     I  S1100   \n",
       "17492   1109094380320  Homestead Extension of Florida's Tpke     M  S1100   \n",
       "17493   1108296486865  Homestead Extension of Florida's Tpke     M  S1100   \n",
       "17494   1108296486869  Homestead Extension of Florida's Tpke     M  S1100   \n",
       "\n",
       "                                                geometry  \n",
       "0      LINESTRING (-89.34466 31.35903, -89.34374 31.3...  \n",
       "1      LINESTRING (-89.32506 31.37999, -89.32826 31.3...  \n",
       "2      LINESTRING (-88.49978 43.14901, -88.49788 43.1...  \n",
       "3      LINESTRING (-88.49978 43.14878, -88.49820 43.1...  \n",
       "4      LINESTRING (-97.18355 32.98982, -97.18214 32.9...  \n",
       "...                                                  ...  \n",
       "17490  LINESTRING (-105.00571 39.76043, -105.00484 39...  \n",
       "17491  LINESTRING (-104.98859 39.79109, -104.98831 39...  \n",
       "17492  LINESTRING (-80.34125 25.95717, -80.34196 25.9...  \n",
       "17493  LINESTRING (-80.34088 25.95715, -80.33988 25.9...  \n",
       "17494  LINESTRING (-80.24078 25.97268, -80.24657 25.9...  \n",
       "\n",
       "[17495 rows x 5 columns]"
      ]
     },
     "execution_count": 9,
     "metadata": {},
     "output_type": "execute_result"
    }
   ],
   "source": [
    "road"
   ]
  },
  {
   "cell_type": "code",
   "execution_count": 10,
   "id": "ea2dc982-2a18-4a53-a108-42022d40535e",
   "metadata": {},
   "outputs": [
    {
     "data": {
      "text/html": [
       "<div>\n",
       "<style scoped>\n",
       "    .dataframe tbody tr th:only-of-type {\n",
       "        vertical-align: middle;\n",
       "    }\n",
       "\n",
       "    .dataframe tbody tr th {\n",
       "        vertical-align: top;\n",
       "    }\n",
       "\n",
       "    .dataframe thead th {\n",
       "        text-align: right;\n",
       "    }\n",
       "</style>\n",
       "<table border=\"1\" class=\"dataframe\">\n",
       "  <thead>\n",
       "    <tr style=\"text-align: right;\">\n",
       "      <th></th>\n",
       "      <th>LINEARID</th>\n",
       "      <th>FULLNAME</th>\n",
       "      <th>RTTYP</th>\n",
       "      <th>MTFCC</th>\n",
       "      <th>geometry</th>\n",
       "    </tr>\n",
       "  </thead>\n",
       "  <tbody>\n",
       "    <tr>\n",
       "      <th>0</th>\n",
       "      <td>1104430641961</td>\n",
       "      <td>State Hwy 42</td>\n",
       "      <td>S</td>\n",
       "      <td>S1100</td>\n",
       "      <td>LINESTRING (-89.34466 31.35903, -89.34374 31.3...</td>\n",
       "    </tr>\n",
       "  </tbody>\n",
       "</table>\n",
       "</div>"
      ],
      "text/plain": [
       "        LINEARID      FULLNAME RTTYP  MTFCC  \\\n",
       "0  1104430641961  State Hwy 42     S  S1100   \n",
       "\n",
       "                                            geometry  \n",
       "0  LINESTRING (-89.34466 31.35903, -89.34374 31.3...  "
      ]
     },
     "execution_count": 10,
     "metadata": {},
     "output_type": "execute_result"
    }
   ],
   "source": [
    "hwy42 = road[road[\"LINEARID\"]==\"1104430641961\"]\n",
    "hwy42"
   ]
  },
  {
   "cell_type": "code",
   "execution_count": 11,
   "id": "92b56285-dffe-4cd4-b9c0-ed8ebb952019",
   "metadata": {},
   "outputs": [
    {
     "data": {
      "image/svg+xml": [
       "<svg xmlns=\"http://www.w3.org/2000/svg\" xmlns:xlink=\"http://www.w3.org/1999/xlink\" width=\"100.0\" height=\"100.0\" viewBox=\"-89.34551147999998 31.35817952 0.021277960000006146 0.023043959999988317\" preserveAspectRatio=\"xMinYMin meet\"><g transform=\"matrix(1,0,0,-1,0,62.73940299999999)\"><polyline fill=\"none\" stroke=\"#66cc99\" stroke-width=\"0.00046087919999976634\" points=\"-89.34465799999998,31.359033 -89.34374299999999,31.35998 -89.34303299999999,31.360754 -89.34261999999998,31.361196999999997 -89.342286,31.361564999999988 -89.34208199999999,31.361791999999998 -89.34180599999999,31.362078999999998 -89.34114799999999,31.362763999999988 -89.34049899999998,31.363471999999998 -89.33897199999998,31.365164999999998 -89.33882199999998,31.365331999999988 -89.33819099999998,31.36600299999999 -89.33790799999998,31.36631099999999 -89.33656599999999,31.367777 -89.336534,31.367811999999997 -89.336455,31.367898999999998 -89.33639999999998,31.36796 -89.33634399999998,31.368020999999988 -89.335633,31.368783999999998 -89.33548799999998,31.36894099999999 -89.33485999999999,31.369601999999997 -89.33396899999998,31.37060299999999 -89.33318899999999,31.371455999999988 -89.332363,31.372335999999997 -89.332104,31.37261099999999 -89.32846099999999,31.376715999999988 -89.32508699999998,31.38036999999999\" opacity=\"0.8\" /></g></svg>"
      ],
      "text/plain": [
       "<LINESTRING (-89.345 31.359, -89.344 31.36, -89.343 31.361, -89.343 31.361, ...>"
      ]
     },
     "execution_count": 11,
     "metadata": {},
     "output_type": "execute_result"
    }
   ],
   "source": [
    "hwy42[\"geometry\"][0]"
   ]
  },
  {
   "cell_type": "code",
   "execution_count": 12,
   "id": "f72e5b20-16c7-4b0a-a71e-5a2990ea8203",
   "metadata": {},
   "outputs": [
    {
     "name": "stdout",
     "output_type": "stream",
     "text": [
      "LINESTRING (-89.34465799999998 31.359033, -89.34374299999999 31.35998, -89.34303299999999 31.360754, -89.34261999999998 31.361196999999997, -89.342286 31.361564999999988, -89.34208199999999 31.361791999999998, -89.34180599999999 31.362078999999998, -89.34114799999999 31.362763999999988, -89.34049899999998 31.363471999999998, -89.33897199999998 31.365164999999998, -89.33882199999998 31.365331999999988, -89.33819099999998 31.36600299999999, -89.33790799999998 31.36631099999999, -89.33656599999999 31.367777, -89.336534 31.367811999999997, -89.336455 31.367898999999998, -89.33639999999998 31.36796, -89.33634399999998 31.368020999999988, -89.335633 31.368783999999998, -89.33548799999998 31.36894099999999, -89.33485999999999 31.369601999999997, -89.33396899999998 31.37060299999999, -89.33318899999999 31.371455999999988, -89.332363 31.372335999999997, -89.332104 31.37261099999999, -89.32846099999999 31.376715999999988, -89.32508699999998 31.38036999999999)\n"
     ]
    }
   ],
   "source": [
    "print(hwy42[\"geometry\"][0])"
   ]
  },
  {
   "cell_type": "markdown",
   "id": "94e283ab-5cf8-444c-811f-b211aea465c7",
   "metadata": {
    "tags": []
   },
   "source": [
    "<a id='polygon'></a>\n",
    "\n",
    "### 1.3. Polygon Data"
   ]
  },
  {
   "cell_type": "markdown",
   "id": "0ddbab55-6391-41ca-bed1-7fedaac0a98c",
   "metadata": {},
   "source": [
    "### US County Shapefile as Polygon Data"
   ]
  },
  {
   "cell_type": "code",
   "execution_count": 13,
   "id": "c5140564-7289-4646-8951-d00f89fdf707",
   "metadata": {},
   "outputs": [
    {
     "data": {
      "image/png": "[encoded data removed]",
      "text/plain": [
       "<Figure size 640x480 with 1 Axes>"
      ]
     },
     "metadata": {},
     "output_type": "display_data"
    }
   ],
   "source": [
    "url_states = r'https://www2.census.gov/geo/tiger/TIGER2019/STATE/tl_2019_us_state.zip'\n",
    "states = gpd.read_file(url_states)\n",
    "states.plot()\n",
    "plt.show()"
   ]
  },
  {
   "cell_type": "code",
   "execution_count": 14,
   "id": "058ed0ca-423e-4271-a97a-9825bed74201",
   "metadata": {},
   "outputs": [
    {
     "data": {
      "text/plain": [
       "<Axes: >"
      ]
     },
     "execution_count": 14,
     "metadata": {},
     "output_type": "execute_result"
    },
    {
     "data": {
      "image/png": "[encoded data removed]",
      "text/plain": [
       "<Figure size 640x480 with 1 Axes>"
      ]
     },
     "metadata": {},
     "output_type": "display_data"
    }
   ],
   "source": [
    "## look into the shape for states Illinois\n",
    "states[states[\"GEOID\"] == \"17\"].plot()"
   ]
  },
  {
   "cell_type": "markdown",
   "id": "1bcc8e0e-c213-4b57-aacd-0e0e798dcb7f",
   "metadata": {},
   "source": [
    "<a id='raster'></a>\n",
    "\n",
    "## 2. Raster Data"
   ]
  },
  {
   "cell_type": "markdown",
   "id": "c3c69168-38d4-4c3a-9c59-5184a883b9f3",
   "metadata": {},
   "source": [
    "Raster data in GIS (Geographic Information Systems) refers to the digital representation of spatial data as a grid of cells or pixels, with each cell containing a value that represents a specific geographic information or attribute. Raster data is typically used to represent continuous geographic phenomena, such as elevation, land cover, temperature, or remotely sensed imagery. The key characteristics of raster data include:"
   ]
  },
  {
   "cell_type": "markdown",
   "id": "66a6a84d-7b19-4ff7-b040-b72a71d284a8",
   "metadata": {},
   "source": [
    "<a id='continuous'></a>\n",
    "\n",
    "### 2.1. Continuous Raster Data"
   ]
  },
  {
   "cell_type": "markdown",
   "id": "cbafb88b-9c64-4ea5-8b41-2649701df3d1",
   "metadata": {
    "tags": []
   },
   "source": [
    "### Continuous Data"
   ]
  },
  {
   "cell_type": "code",
   "execution_count": 15,
   "id": "bff0ada7-2fb9-4efd-a0a0-2bf99db95b76",
   "metadata": {},
   "outputs": [
    {
     "data": {
      "text/html": [
       "<div>\n",
       "<style scoped>\n",
       "    .dataframe tbody tr th:only-of-type {\n",
       "        vertical-align: middle;\n",
       "    }\n",
       "\n",
       "    .dataframe tbody tr th {\n",
       "        vertical-align: top;\n",
       "    }\n",
       "\n",
       "    .dataframe thead th {\n",
       "        text-align: right;\n",
       "    }\n",
       "</style>\n",
       "<table border=\"1\" class=\"dataframe\">\n",
       "  <thead>\n",
       "    <tr style=\"text-align: right;\">\n",
       "      <th></th>\n",
       "      <th>Unnamed: 0</th>\n",
       "      <th>lon</th>\n",
       "      <th>lat</th>\n",
       "      <th>val</th>\n",
       "    </tr>\n",
       "  </thead>\n",
       "  <tbody>\n",
       "    <tr>\n",
       "      <th>0</th>\n",
       "      <td>0</td>\n",
       "      <td>-87.545366</td>\n",
       "      <td>41.644595</td>\n",
       "      <td>0.269728</td>\n",
       "    </tr>\n",
       "    <tr>\n",
       "      <th>1</th>\n",
       "      <td>1</td>\n",
       "      <td>-87.533171</td>\n",
       "      <td>41.644595</td>\n",
       "      <td>0.279292</td>\n",
       "    </tr>\n",
       "    <tr>\n",
       "      <th>2</th>\n",
       "      <td>2</td>\n",
       "      <td>-87.618537</td>\n",
       "      <td>41.653604</td>\n",
       "      <td>0.340616</td>\n",
       "    </tr>\n",
       "    <tr>\n",
       "      <th>3</th>\n",
       "      <td>3</td>\n",
       "      <td>-87.606341</td>\n",
       "      <td>41.653604</td>\n",
       "      <td>0.291826</td>\n",
       "    </tr>\n",
       "    <tr>\n",
       "      <th>4</th>\n",
       "      <td>4</td>\n",
       "      <td>-87.594146</td>\n",
       "      <td>41.653604</td>\n",
       "      <td>0.302488</td>\n",
       "    </tr>\n",
       "    <tr>\n",
       "      <th>...</th>\n",
       "      <td>...</td>\n",
       "      <td>...</td>\n",
       "      <td>...</td>\n",
       "      <td>...</td>\n",
       "    </tr>\n",
       "    <tr>\n",
       "      <th>588</th>\n",
       "      <td>588</td>\n",
       "      <td>-87.777073</td>\n",
       "      <td>42.013964</td>\n",
       "      <td>0.366731</td>\n",
       "    </tr>\n",
       "    <tr>\n",
       "      <th>589</th>\n",
       "      <td>589</td>\n",
       "      <td>-87.703902</td>\n",
       "      <td>42.013964</td>\n",
       "      <td>0.252858</td>\n",
       "    </tr>\n",
       "    <tr>\n",
       "      <th>590</th>\n",
       "      <td>590</td>\n",
       "      <td>-87.691707</td>\n",
       "      <td>42.013964</td>\n",
       "      <td>0.287384</td>\n",
       "    </tr>\n",
       "    <tr>\n",
       "      <th>591</th>\n",
       "      <td>591</td>\n",
       "      <td>-87.679512</td>\n",
       "      <td>42.013964</td>\n",
       "      <td>0.264091</td>\n",
       "    </tr>\n",
       "    <tr>\n",
       "      <th>592</th>\n",
       "      <td>592</td>\n",
       "      <td>-87.667317</td>\n",
       "      <td>42.013964</td>\n",
       "      <td>0.241318</td>\n",
       "    </tr>\n",
       "  </tbody>\n",
       "</table>\n",
       "<p>593 rows × 4 columns</p>\n",
       "</div>"
      ],
      "text/plain": [
       "     Unnamed: 0        lon        lat       val\n",
       "0             0 -87.545366  41.644595  0.269728\n",
       "1             1 -87.533171  41.644595  0.279292\n",
       "2             2 -87.618537  41.653604  0.340616\n",
       "3             3 -87.606341  41.653604  0.291826\n",
       "4             4 -87.594146  41.653604  0.302488\n",
       "..          ...        ...        ...       ...\n",
       "588         588 -87.777073  42.013964  0.366731\n",
       "589         589 -87.703902  42.013964  0.252858\n",
       "590         590 -87.691707  42.013964  0.287384\n",
       "591         591 -87.679512  42.013964  0.264091\n",
       "592         592 -87.667317  42.013964  0.241318\n",
       "\n",
       "[593 rows x 4 columns]"
      ]
     },
     "execution_count": 15,
     "metadata": {},
     "output_type": "execute_result"
    }
   ],
   "source": [
    "df = pd.read_csv('./human_sentiments_of_heat/1km_chicago_heat_exposure.csv')\n",
    "df"
   ]
  },
  {
   "cell_type": "code",
   "execution_count": 16,
   "id": "7de4fc6f-abd8-42ba-a741-02c8b5b9134e",
   "metadata": {},
   "outputs": [
    {
     "data": {
      "text/plain": [
       "array([<Axes: xlabel='lon', ylabel='lat'>], dtype=object)"
      ]
     },
     "execution_count": 16,
     "metadata": {},
     "output_type": "execute_result"
    },
    {
     "data": {
      "image/png": "[encoded data removed]",
      "text/plain": [
       "<Figure size 1000x1000 with 2 Axes>"
      ]
     },
     "metadata": {},
     "output_type": "display_data"
    }
   ],
   "source": [
    "df.plot.scatter(title='Continuous Data - Human Sentiments of Heat Expososure', x='lon', y='lat', c='val', figsize = [10,10], subplots=True, marker=\"s\", s = 155, colormap='viridis')"
   ]
  },
  {
   "cell_type": "markdown",
   "id": "24c10175-e3ed-4a46-9751-5437e317d215",
   "metadata": {},
   "source": [
    "<a id='discrete'></a>\n",
    "\n",
    "### 2.2. Discrete Raster Data"
   ]
  },
  {
   "cell_type": "markdown",
   "id": "0af92805-a992-45fb-915b-747faec75b2e",
   "metadata": {},
   "source": [
    "### Discrete Data"
   ]
  },
  {
   "cell_type": "markdown",
   "id": "4f8e85a1-bc80-4acd-90e5-b81b2c7acc9e",
   "metadata": {},
   "source": [
    "Define 4 types of data by the value of normalized heat exposure (NHE)\n",
    "- Type I -> NHE<=0.25\n",
    "- Type II -> 0.25<NHE<=0.5\n",
    "- Type III -> 0.5<NHE<=0.75\n",
    "- Type IV -> 0.75<NHE"
   ]
  },
  {
   "cell_type": "code",
   "execution_count": 17,
   "id": "c905dd10-ce8a-4a8e-8a53-c8f058a15248",
   "metadata": {},
   "outputs": [],
   "source": [
    "tp = []\n",
    "val = list(df['val'])\n",
    "for ele in val:\n",
    "    if (ele<=0.25):\n",
    "        tp.append(\"Type I\")\n",
    "    elif (ele<=0.5):\n",
    "        tp.append(\"Type II\")\n",
    "    elif (ele<=0.75):\n",
    "        tp.append(\"Type III\")\n",
    "    else:\n",
    "        tp.append(\"Type IV\")"
   ]
  },
  {
   "cell_type": "code",
   "execution_count": 18,
   "id": "fb6df11b-5ad4-46af-b83e-0eadfc1030ee",
   "metadata": {},
   "outputs": [],
   "source": [
    "df[\"type\"] = tp"
   ]
  },
  {
   "cell_type": "code",
   "execution_count": 19,
   "id": "2da7845c-1236-4666-a2e8-af3dbc141e0d",
   "metadata": {},
   "outputs": [
    {
     "data": {
      "text/html": [
       "<div>\n",
       "<style scoped>\n",
       "    .dataframe tbody tr th:only-of-type {\n",
       "        vertical-align: middle;\n",
       "    }\n",
       "\n",
       "    .dataframe tbody tr th {\n",
       "        vertical-align: top;\n",
       "    }\n",
       "\n",
       "    .dataframe thead th {\n",
       "        text-align: right;\n",
       "    }\n",
       "</style>\n",
       "<table border=\"1\" class=\"dataframe\">\n",
       "  <thead>\n",
       "    <tr style=\"text-align: right;\">\n",
       "      <th></th>\n",
       "      <th>Unnamed: 0</th>\n",
       "      <th>lon</th>\n",
       "      <th>lat</th>\n",
       "      <th>val</th>\n",
       "      <th>type</th>\n",
       "    </tr>\n",
       "  </thead>\n",
       "  <tbody>\n",
       "    <tr>\n",
       "      <th>0</th>\n",
       "      <td>0</td>\n",
       "      <td>-87.545366</td>\n",
       "      <td>41.644595</td>\n",
       "      <td>0.269728</td>\n",
       "      <td>Type II</td>\n",
       "    </tr>\n",
       "    <tr>\n",
       "      <th>1</th>\n",
       "      <td>1</td>\n",
       "      <td>-87.533171</td>\n",
       "      <td>41.644595</td>\n",
       "      <td>0.279292</td>\n",
       "      <td>Type II</td>\n",
       "    </tr>\n",
       "    <tr>\n",
       "      <th>2</th>\n",
       "      <td>2</td>\n",
       "      <td>-87.618537</td>\n",
       "      <td>41.653604</td>\n",
       "      <td>0.340616</td>\n",
       "      <td>Type II</td>\n",
       "    </tr>\n",
       "    <tr>\n",
       "      <th>3</th>\n",
       "      <td>3</td>\n",
       "      <td>-87.606341</td>\n",
       "      <td>41.653604</td>\n",
       "      <td>0.291826</td>\n",
       "      <td>Type II</td>\n",
       "    </tr>\n",
       "    <tr>\n",
       "      <th>4</th>\n",
       "      <td>4</td>\n",
       "      <td>-87.594146</td>\n",
       "      <td>41.653604</td>\n",
       "      <td>0.302488</td>\n",
       "      <td>Type II</td>\n",
       "    </tr>\n",
       "    <tr>\n",
       "      <th>...</th>\n",
       "      <td>...</td>\n",
       "      <td>...</td>\n",
       "      <td>...</td>\n",
       "      <td>...</td>\n",
       "      <td>...</td>\n",
       "    </tr>\n",
       "    <tr>\n",
       "      <th>588</th>\n",
       "      <td>588</td>\n",
       "      <td>-87.777073</td>\n",
       "      <td>42.013964</td>\n",
       "      <td>0.366731</td>\n",
       "      <td>Type II</td>\n",
       "    </tr>\n",
       "    <tr>\n",
       "      <th>589</th>\n",
       "      <td>589</td>\n",
       "      <td>-87.703902</td>\n",
       "      <td>42.013964</td>\n",
       "      <td>0.252858</td>\n",
       "      <td>Type II</td>\n",
       "    </tr>\n",
       "    <tr>\n",
       "      <th>590</th>\n",
       "      <td>590</td>\n",
       "      <td>-87.691707</td>\n",
       "      <td>42.013964</td>\n",
       "      <td>0.287384</td>\n",
       "      <td>Type II</td>\n",
       "    </tr>\n",
       "    <tr>\n",
       "      <th>591</th>\n",
       "      <td>591</td>\n",
       "      <td>-87.679512</td>\n",
       "      <td>42.013964</td>\n",
       "      <td>0.264091</td>\n",
       "      <td>Type II</td>\n",
       "    </tr>\n",
       "    <tr>\n",
       "      <th>592</th>\n",
       "      <td>592</td>\n",
       "      <td>-87.667317</td>\n",
       "      <td>42.013964</td>\n",
       "      <td>0.241318</td>\n",
       "      <td>Type I</td>\n",
       "    </tr>\n",
       "  </tbody>\n",
       "</table>\n",
       "<p>593 rows × 5 columns</p>\n",
       "</div>"
      ],
      "text/plain": [
       "     Unnamed: 0        lon        lat       val     type\n",
       "0             0 -87.545366  41.644595  0.269728  Type II\n",
       "1             1 -87.533171  41.644595  0.279292  Type II\n",
       "2             2 -87.618537  41.653604  0.340616  Type II\n",
       "3             3 -87.606341  41.653604  0.291826  Type II\n",
       "4             4 -87.594146  41.653604  0.302488  Type II\n",
       "..          ...        ...        ...       ...      ...\n",
       "588         588 -87.777073  42.013964  0.366731  Type II\n",
       "589         589 -87.703902  42.013964  0.252858  Type II\n",
       "590         590 -87.691707  42.013964  0.287384  Type II\n",
       "591         591 -87.679512  42.013964  0.264091  Type II\n",
       "592         592 -87.667317  42.013964  0.241318   Type I\n",
       "\n",
       "[593 rows x 5 columns]"
      ]
     },
     "execution_count": 19,
     "metadata": {},
     "output_type": "execute_result"
    }
   ],
   "source": [
    "df"
   ]
  },
  {
   "cell_type": "code",
   "execution_count": 20,
   "id": "555b2ff0-9115-4eae-8720-fed1e9310062",
   "metadata": {},
   "outputs": [
    {
     "data": {
      "text/plain": [
       "array([<Axes: xlabel='lon', ylabel='lat'>], dtype=object)"
      ]
     },
     "execution_count": 20,
     "metadata": {},
     "output_type": "execute_result"
    },
    {
     "data": {
      "image/png": "[encoded data removed]",
      "text/plain": [
       "<Figure size 1000x1000 with 2 Axes>"
      ]
     },
     "metadata": {},
     "output_type": "display_data"
    }
   ],
   "source": [
    "import plotly.express as px\n",
    "df[\"type\"] = df[\"type\"].astype(\"category\")\n",
    "\n",
    "df.plot.scatter(title='Discrete Data - Human Sentiments of Heat Expososure', x='lon', y='lat', c='type', figsize = [10,10], subplots=True, marker=\"s\", s = 155, colormap='viridis')"
   ]
  }
 ],
 "metadata": {
  "kernelspec": {
   "display_name": "iguide",
   "language": "python",
   "name": "iguide"
  },
  "language_info": {
   "codemirror_mode": {
    "name": "ipython",
    "version": 3
   },
   "file_extension": ".py",
   "mimetype": "text/x-python",
   "name": "python",
   "nbconvert_exporter": "python",
   "pygments_lexer": "ipython3",
   "version": "3.8.16"
  }
 },
 "nbformat": 4,
 "nbformat_minor": 5
}
