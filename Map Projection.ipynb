{
 "cells": [
  {
   "cell_type": "markdown",
   "id": "ceeb1297-ac50-4e33-a111-b86b1c7bb6b7",
   "metadata": {},
   "source": [
    "# Map Projection"
   ]
  },
  {
   "cell_type": "markdown",
   "id": "a423a6d8-afa4-4820-b548-72bfda20a43a",
   "metadata": {},
   "source": [
    "Author: Fangzheng Lyu\n",
    "\n",
    "Map projections are mathematical models used to transform the curved Earth's surface onto a flat, two-dimensional plane. They are necessary because representing a three-dimensional spherical shape on a flat surface inevitably introduces some form of distortion. Different map projections are designed to preserve or minimize distortion of specific properties like area, shape, distance, or direction, depending on the intended application and geographic region."
   ]
  },
  {
   "cell_type": "code",
   "execution_count": 30,
   "id": "7c675b12-0f13-483d-b41a-4bd377ecc143",
   "metadata": {},
   "outputs": [],
   "source": [
    "import geopandas as gpd\n",
    "from matplotlib import pyplot as plt\n",
    "import csv\n",
    "from urllib.request import urlopen\n",
    "import pandas as pd\n",
    "from pyproj import Proj, transform\n",
    "import math\n",
    "from shapely.geometry import Point"
   ]
  },
  {
   "cell_type": "markdown",
   "id": "799e4869-3dec-4f4b-b750-478ce2d61eea",
   "metadata": {
    "tags": []
   },
   "source": [
    "## Notebook Outline\n",
    "- [Commonly Used Map Projection](#map)\n",
    "    - [North American Datum 1983 NAD83](#nad83)\n",
    "    - [World Geodetic System WGS84](#wgs84)\n",
    "    - [Web Mercator projection](#web)\n",
    "    - [International Terrestrial Reference System](#int)\n",
    "- [Transfer between different map projection](#transfer)\n",
    "    - [Polygon](#poly)\n",
    "    - [Point](#point)"
   ]
  },
  {
   "cell_type": "markdown",
   "id": "ebfb625c-b957-47b0-932e-560bd0af5c91",
   "metadata": {},
   "source": [
    "<a id='map'></a>\n",
    "\n",
    "## 1. Commonly Used Map Projection"
   ]
  },
  {
   "cell_type": "markdown",
   "id": "6ee63924-5a04-4b02-a3fb-5359ad30ff2a",
   "metadata": {},
   "source": [
    "This section includes commonly used map projection including North American Datum 1983, World Geodetic System WGS84, Web Mercator projection, and International Terrestrial Reference System.\n",
    "\n",
    "Please refer to [EPSG.io: Coordinate Systems Worldwide](https://epsg.io/) for more information on the web projections"
   ]
  },
  {
   "cell_type": "markdown",
   "id": "c8445876-3e3f-4824-921c-a83f7cd24bf9",
   "metadata": {},
   "source": [
    "<a id='nad83'></a>\n",
    "\n",
    "### 1.1. North American Datum 1983 NAD83"
   ]
  },
  {
   "cell_type": "markdown",
   "id": "e6325e85-db57-4322-b118-b2bd80272658",
   "metadata": {},
   "source": [
    "EPSG code 4269 (NAD83) is a geographic coordinate system used for mapping locations in North America. NAD83 stands for the North American Datum 1983, which is a geodetic reference system that defines the shape and size of the Earth based on measurements taken across North America."
   ]
  },
  {
   "cell_type": "code",
   "execution_count": 3,
   "id": "26eb4387-34c9-4ced-8167-df6aea991876",
   "metadata": {},
   "outputs": [
    {
     "data": {
      "image/png": "[encoded data removed]",
      "text/plain": [
       "<Figure size 640x480 with 1 Axes>"
      ]
     },
     "metadata": {},
     "output_type": "display_data"
    }
   ],
   "source": [
    "## Data retrieval from US census bureau\n",
    "## Get the states ID\n",
    "url_states = r'https://www2.census.gov/geo/tiger/TIGER2019/STATE/tl_2019_us_state.zip'\n",
    "states = gpd.read_file(url_states)\n",
    "states.plot()\n",
    "plt.show()"
   ]
  },
  {
   "cell_type": "code",
   "execution_count": 4,
   "id": "6e0f0f27-28cb-44d0-85e6-322f86fe8c75",
   "metadata": {},
   "outputs": [
    {
     "data": {
      "text/plain": [
       "0    POLYGON ((-81.74725 39.09538, -81.74635 39.096...\n",
       "1    MULTIPOLYGON (((-86.38865 30.99418, -86.38385 ...\n",
       "2    POLYGON ((-91.18529 40.63780, -91.17510 40.643...\n",
       "3    POLYGON ((-96.78438 46.63050, -96.78434 46.630...\n",
       "4    POLYGON ((-77.45881 39.22027, -77.45866 39.220...\n",
       "Name: geometry, dtype: geometry"
      ]
     },
     "execution_count": 4,
     "metadata": {},
     "output_type": "execute_result"
    }
   ],
   "source": [
    "states['geometry'].head()"
   ]
  },
  {
   "cell_type": "code",
   "execution_count": 5,
   "id": "210bb6ab-9eca-4cf6-8c0b-b0fd4e0ca143",
   "metadata": {},
   "outputs": [
    {
     "data": {
      "text/plain": [
       "<Geographic 2D CRS: EPSG:4269>\n",
       "Name: NAD83\n",
       "Axis Info [ellipsoidal]:\n",
       "- Lat[north]: Geodetic latitude (degree)\n",
       "- Lon[east]: Geodetic longitude (degree)\n",
       "Area of Use:\n",
       "- name: North America - onshore and offshore: Canada - Alberta; British Columbia; Manitoba; New Brunswick; Newfoundland and Labrador; Northwest Territories; Nova Scotia; Nunavut; Ontario; Prince Edward Island; Quebec; Saskatchewan; Yukon. Puerto Rico. United States (USA) - Alabama; Alaska; Arizona; Arkansas; California; Colorado; Connecticut; Delaware; Florida; Georgia; Hawaii; Idaho; Illinois; Indiana; Iowa; Kansas; Kentucky; Louisiana; Maine; Maryland; Massachusetts; Michigan; Minnesota; Mississippi; Missouri; Montana; Nebraska; Nevada; New Hampshire; New Jersey; New Mexico; New York; North Carolina; North Dakota; Ohio; Oklahoma; Oregon; Pennsylvania; Rhode Island; South Carolina; South Dakota; Tennessee; Texas; Utah; Vermont; Virginia; Washington; West Virginia; Wisconsin; Wyoming. US Virgin Islands. British Virgin Islands.\n",
       "- bounds: (167.65071105957, 14.928194130078, -47.743430543984, 86.453745196084)\n",
       "Datum: North American Datum 1983\n",
       "- Ellipsoid: GRS 1980\n",
       "- Prime Meridian: Greenwich"
      ]
     },
     "execution_count": 5,
     "metadata": {},
     "output_type": "execute_result"
    }
   ],
   "source": [
    "states.crs"
   ]
  },
  {
   "cell_type": "code",
   "execution_count": 6,
   "id": "8ef9427b-1166-40cf-ae2b-8a99bedd81ae",
   "metadata": {},
   "outputs": [
    {
     "data": {
      "text/plain": [
       "<Axes: >"
      ]
     },
     "execution_count": 6,
     "metadata": {},
     "output_type": "execute_result"
    },
    {
     "data": {
      "image/png": "[encoded data removed]",
      "text/plain": [
       "<Figure size 640x480 with 1 Axes>"
      ]
     },
     "metadata": {},
     "output_type": "display_data"
    }
   ],
   "source": [
    "## look into the shape for states Illinois\n",
    "states[states[\"GEOID\"] == \"17\"].plot()"
   ]
  },
  {
   "cell_type": "markdown",
   "id": "e17b1af4-185e-481f-b60b-35d4563b15b2",
   "metadata": {},
   "source": [
    "<a id='wgs84'></a>\n",
    "\n",
    "### 1.2. World Geodetic System WGS84"
   ]
  },
  {
   "cell_type": "markdown",
   "id": "989db158-a87b-4980-8a29-5c81b4a758cc",
   "metadata": {},
   "source": [
    "The World Geodetic System 1984 (WGS 84) is a standard for defining geographic coordinate systems used in cartography, geodesy, and navigation. It is the reference coordinate system used by the Global Positioning System (GPS)."
   ]
  },
  {
   "cell_type": "markdown",
   "id": "d0511c2e-a24b-45a9-b42f-1e9f4f1c80d0",
   "metadata": {},
   "source": [
    "### Difference Between WGS84 and NAD83\n",
    "Both NAD 83 and WGS 84 are based on the GRS 80 spheroid. But WGS 84 subsequently changed to a slightly less flattened spheroid. This change in flattening is about 0.1 mm, a difference so small that computational programs often do not distinguish between the two ellipsoids.However, due to differences in how the reference ellipsoids are centered and oriented, coordinates in the two datums differ from each other by amounts on the order of a meter over much of the United States."
   ]
  },
  {
   "cell_type": "code",
   "execution_count": 21,
   "id": "b168615f-a221-4f3d-b98f-10146a271094",
   "metadata": {},
   "outputs": [],
   "source": [
    "state_world = states.to_crs(epsg=4326)"
   ]
  },
  {
   "cell_type": "code",
   "execution_count": 22,
   "id": "14959993-5f54-439e-87e2-194ecaf9de79",
   "metadata": {},
   "outputs": [
    {
     "data": {
      "text/plain": [
       "0    POLYGON ((-81.74725 39.09538, -81.74635 39.096...\n",
       "1    MULTIPOLYGON (((-86.38865 30.99418, -86.38385 ...\n",
       "2    POLYGON ((-91.18529 40.63780, -91.17510 40.643...\n",
       "3    POLYGON ((-96.78438 46.63050, -96.78434 46.630...\n",
       "4    POLYGON ((-77.45881 39.22027, -77.45866 39.220...\n",
       "Name: geometry, dtype: geometry"
      ]
     },
     "execution_count": 22,
     "metadata": {},
     "output_type": "execute_result"
    }
   ],
   "source": [
    "state_world['geometry'].head()"
   ]
  },
  {
   "cell_type": "code",
   "execution_count": 24,
   "id": "dfaceeb8-494c-45f4-a910-af40e285c882",
   "metadata": {},
   "outputs": [
    {
     "data": {
      "image/png": "[encoded data removed]",
      "text/plain": [
       "<Figure size 640x480 with 1 Axes>"
      ]
     },
     "metadata": {},
     "output_type": "display_data"
    }
   ],
   "source": [
    "state_world.plot()\n",
    "plt.show()"
   ]
  },
  {
   "cell_type": "code",
   "execution_count": 25,
   "id": "0564bdf0-b203-407c-b0af-a683e08c6015",
   "metadata": {},
   "outputs": [
    {
     "data": {
      "text/plain": [
       "<Axes: >"
      ]
     },
     "execution_count": 25,
     "metadata": {},
     "output_type": "execute_result"
    },
    {
     "data": {
      "image/png": "[encoded data removed]",
      "text/plain": [
       "<Figure size 640x480 with 1 Axes>"
      ]
     },
     "metadata": {},
     "output_type": "display_data"
    }
   ],
   "source": [
    "## look into the shape for states Illinois\n",
    "state_world[state_world[\"GEOID\"] == \"17\"].plot()"
   ]
  },
  {
   "cell_type": "markdown",
   "id": "4a88fa8e-44b1-4fdf-a525-0f8c9306dbdf",
   "metadata": {
    "tags": []
   },
   "source": [
    "<a id='web'></a>\n",
    "\n",
    "### 1.3. Web Mercator projection"
   ]
  },
  {
   "cell_type": "markdown",
   "id": "68a2d504-1304-44fd-b3f6-19dbc2ac053f",
   "metadata": {},
   "source": [
    "Web Mercator projection is a variant of the Mercator map projection and is the standard for Web mapping applications such as Google Map."
   ]
  },
  {
   "cell_type": "code",
   "execution_count": 12,
   "id": "02c6f317-ad03-4acb-90fa-2499b6a4f235",
   "metadata": {},
   "outputs": [],
   "source": [
    "state_web = states.to_crs(epsg=3857)"
   ]
  },
  {
   "cell_type": "code",
   "execution_count": 13,
   "id": "02056ff8-356c-4393-8aac-ec43b763d047",
   "metadata": {},
   "outputs": [
    {
     "data": {
      "text/plain": [
       "0    POLYGON ((-9100062.689 4735343.019, -9099962.5...\n",
       "1    MULTIPOLYGON (((-9616740.083 3631993.459, -961...\n",
       "2    POLYGON ((-10150700.607 4959063.588, -10149565...\n",
       "3    POLYGON ((-10773988.010 5881970.094, -10773983...\n",
       "4    POLYGON ((-8622675.064 4753272.653, -8622658.7...\n",
       "Name: geometry, dtype: geometry"
      ]
     },
     "execution_count": 13,
     "metadata": {},
     "output_type": "execute_result"
    }
   ],
   "source": [
    "state_web['geometry'].head()"
   ]
  },
  {
   "cell_type": "code",
   "execution_count": 23,
   "id": "f6e5b6ea-c181-408f-9669-3e52bd2599ff",
   "metadata": {},
   "outputs": [
    {
     "data": {
      "image/png": "[encoded data removed]",
      "text/plain": [
       "<Figure size 640x480 with 1 Axes>"
      ]
     },
     "metadata": {},
     "output_type": "display_data"
    }
   ],
   "source": [
    "state_web.plot()\n",
    "plt.show()"
   ]
  },
  {
   "cell_type": "code",
   "execution_count": 15,
   "id": "072363f5-4598-4c1f-a84d-68c93cf3e5ec",
   "metadata": {},
   "outputs": [
    {
     "data": {
      "text/plain": [
       "<Axes: >"
      ]
     },
     "execution_count": 15,
     "metadata": {},
     "output_type": "execute_result"
    },
    {
     "data": {
      "image/png": "[encoded data removed]",
      "text/plain": [
       "<Figure size 640x480 with 1 Axes>"
      ]
     },
     "metadata": {},
     "output_type": "display_data"
    }
   ],
   "source": [
    "## look into the shape for states Illinois\n",
    "state_web[state_web[\"GEOID\"] == \"17\"].plot()"
   ]
  },
  {
   "cell_type": "markdown",
   "id": "7fbac627-d9d5-4a14-a490-d63135595a80",
   "metadata": {},
   "source": [
    "<a id='int'></a>\n",
    "\n",
    "### 1.4. International Terrestrial Reference System"
   ]
  },
  {
   "cell_type": "markdown",
   "id": "7c7cedfa-46cc-415f-8841-4593d0c46914",
   "metadata": {},
   "source": [
    "The International Terrestrial Reference System (ITRS) describes procedures for creating reference frames suitable for use with measurements on or near the Earth's surface. This is done in much the same way that a physical standard might be described as a set of procedures for creating a realization of that standard."
   ]
  },
  {
   "cell_type": "code",
   "execution_count": 16,
   "id": "05ae3852-0bc9-413a-8910-6f13d74240de",
   "metadata": {},
   "outputs": [],
   "source": [
    "state_int = states.to_crs(epsg=7789)"
   ]
  },
  {
   "cell_type": "code",
   "execution_count": 17,
   "id": "cc3085ef-9bca-40e2-9162-2cbfff32717d",
   "metadata": {},
   "outputs": [
    {
     "data": {
      "text/plain": [
       "0    POLYGON ((711478.78496 -4905328.23254, 711543....\n",
       "1    MULTIPOLYGON (((344692.30443 -5461456.82892, 3...\n",
       "2    POLYGON ((-100261.77226 -4845845.87166, -99391...\n",
       "3    POLYGON ((-518326.07954 -4356914.80204, -51832...\n",
       "4    POLYGON ((1074394.52716 -4829845.34833, 107440...\n",
       "Name: geometry, dtype: geometry"
      ]
     },
     "execution_count": 17,
     "metadata": {},
     "output_type": "execute_result"
    }
   ],
   "source": [
    "state_int['geometry'].head()"
   ]
  },
  {
   "cell_type": "code",
   "execution_count": 18,
   "id": "8854f898-69c4-4d34-a994-5d5dc24cb95d",
   "metadata": {},
   "outputs": [
    {
     "data": {
      "image/png": "[encoded data removed]",
      "text/plain": [
       "<Figure size 640x480 with 1 Axes>"
      ]
     },
     "metadata": {},
     "output_type": "display_data"
    }
   ],
   "source": [
    "## Data retrieval from US census bureau\n",
    "## Get the states ID\n",
    "state_web.plot()\n",
    "plt.show()"
   ]
  },
  {
   "cell_type": "code",
   "execution_count": null,
   "id": "9f3c4995-1edf-447c-9707-e339472805b4",
   "metadata": {},
   "outputs": [],
   "source": [
    "## look into the shape for states Illinois\n",
    "state_web[state_web[\"GEOID\"] == \"17\"].plot()"
   ]
  },
  {
   "cell_type": "markdown",
   "id": "9875fbf2-fb83-4d05-85ee-cd93fa30aa9e",
   "metadata": {},
   "source": [
    "<a id='transfer'></a>\n",
    "\n",
    "## 2. Transfer between different map projection"
   ]
  },
  {
   "cell_type": "markdown",
   "id": "7601198d-4d0e-4392-9c64-6cb388b32308",
   "metadata": {},
   "source": [
    "<a id='poly'></a>\n",
    "\n",
    "### 2.1. Polygon"
   ]
  },
  {
   "cell_type": "markdown",
   "id": "e57806ed-bc62-4f55-92f5-ae2cba60395e",
   "metadata": {},
   "source": [
    "### From WGS 84 to Web Mercator"
   ]
  },
  {
   "cell_type": "code",
   "execution_count": 28,
   "id": "edb3488f-8213-4bcd-a1cc-aa165d4c04cf",
   "metadata": {},
   "outputs": [
    {
     "data": {
      "text/html": [
       "<div>\n",
       "<style scoped>\n",
       "    .dataframe tbody tr th:only-of-type {\n",
       "        vertical-align: middle;\n",
       "    }\n",
       "\n",
       "    .dataframe tbody tr th {\n",
       "        vertical-align: top;\n",
       "    }\n",
       "\n",
       "    .dataframe thead th {\n",
       "        text-align: right;\n",
       "    }\n",
       "</style>\n",
       "<table border=\"1\" class=\"dataframe\">\n",
       "  <thead>\n",
       "    <tr style=\"text-align: right;\">\n",
       "      <th></th>\n",
       "      <th>REGION</th>\n",
       "      <th>DIVISION</th>\n",
       "      <th>STATEFP</th>\n",
       "      <th>STATENS</th>\n",
       "      <th>GEOID</th>\n",
       "      <th>STUSPS</th>\n",
       "      <th>NAME</th>\n",
       "      <th>LSAD</th>\n",
       "      <th>MTFCC</th>\n",
       "      <th>FUNCSTAT</th>\n",
       "      <th>ALAND</th>\n",
       "      <th>AWATER</th>\n",
       "      <th>INTPTLAT</th>\n",
       "      <th>INTPTLON</th>\n",
       "      <th>geometry</th>\n",
       "    </tr>\n",
       "  </thead>\n",
       "  <tbody>\n",
       "    <tr>\n",
       "      <th>2</th>\n",
       "      <td>2</td>\n",
       "      <td>3</td>\n",
       "      <td>17</td>\n",
       "      <td>01779784</td>\n",
       "      <td>17</td>\n",
       "      <td>IL</td>\n",
       "      <td>Illinois</td>\n",
       "      <td>00</td>\n",
       "      <td>G4000</td>\n",
       "      <td>A</td>\n",
       "      <td>143779863817</td>\n",
       "      <td>6215723896</td>\n",
       "      <td>+40.1028754</td>\n",
       "      <td>-089.1526108</td>\n",
       "      <td>POLYGON ((-91.18529 40.63780, -91.17510 40.643...</td>\n",
       "    </tr>\n",
       "  </tbody>\n",
       "</table>\n",
       "</div>"
      ],
      "text/plain": [
       "  REGION DIVISION STATEFP   STATENS GEOID STUSPS      NAME LSAD  MTFCC   \n",
       "2      2        3      17  01779784    17     IL  Illinois   00  G4000  \\\n",
       "\n",
       "  FUNCSTAT         ALAND      AWATER     INTPTLAT      INTPTLON   \n",
       "2        A  143779863817  6215723896  +40.1028754  -089.1526108  \\\n",
       "\n",
       "                                            geometry  \n",
       "2  POLYGON ((-91.18529 40.63780, -91.17510 40.643...  "
      ]
     },
     "execution_count": 28,
     "metadata": {},
     "output_type": "execute_result"
    }
   ],
   "source": [
    "chicago = states[states[\"GEOID\"] == \"17\"]\n",
    "chicago"
   ]
  },
  {
   "cell_type": "code",
   "execution_count": 29,
   "id": "6ae2cdf0-5c51-467c-a9e7-cbff077afc79",
   "metadata": {},
   "outputs": [
    {
     "data": {
      "text/plain": [
       "2    POLYGON ((-91.18529 40.63780, -91.17510 40.643...\n",
       "Name: geometry, dtype: geometry"
      ]
     },
     "execution_count": 29,
     "metadata": {},
     "output_type": "execute_result"
    }
   ],
   "source": [
    "chicago['geometry']"
   ]
  },
  {
   "cell_type": "code",
   "execution_count": 31,
   "id": "6d44bbea-5f5e-4ba2-9d58-09042b29945c",
   "metadata": {},
   "outputs": [
    {
     "data": {
      "text/html": [
       "<div>\n",
       "<style scoped>\n",
       "    .dataframe tbody tr th:only-of-type {\n",
       "        vertical-align: middle;\n",
       "    }\n",
       "\n",
       "    .dataframe tbody tr th {\n",
       "        vertical-align: top;\n",
       "    }\n",
       "\n",
       "    .dataframe thead th {\n",
       "        text-align: right;\n",
       "    }\n",
       "</style>\n",
       "<table border=\"1\" class=\"dataframe\">\n",
       "  <thead>\n",
       "    <tr style=\"text-align: right;\">\n",
       "      <th></th>\n",
       "      <th>REGION</th>\n",
       "      <th>DIVISION</th>\n",
       "      <th>STATEFP</th>\n",
       "      <th>STATENS</th>\n",
       "      <th>GEOID</th>\n",
       "      <th>STUSPS</th>\n",
       "      <th>NAME</th>\n",
       "      <th>LSAD</th>\n",
       "      <th>MTFCC</th>\n",
       "      <th>FUNCSTAT</th>\n",
       "      <th>ALAND</th>\n",
       "      <th>AWATER</th>\n",
       "      <th>INTPTLAT</th>\n",
       "      <th>INTPTLON</th>\n",
       "      <th>geometry</th>\n",
       "    </tr>\n",
       "  </thead>\n",
       "  <tbody>\n",
       "    <tr>\n",
       "      <th>2</th>\n",
       "      <td>2</td>\n",
       "      <td>3</td>\n",
       "      <td>17</td>\n",
       "      <td>01779784</td>\n",
       "      <td>17</td>\n",
       "      <td>IL</td>\n",
       "      <td>Illinois</td>\n",
       "      <td>00</td>\n",
       "      <td>G4000</td>\n",
       "      <td>A</td>\n",
       "      <td>143779863817</td>\n",
       "      <td>6215723896</td>\n",
       "      <td>+40.1028754</td>\n",
       "      <td>-089.1526108</td>\n",
       "      <td>POLYGON ((-10150700.607 4959063.588, -10149565...</td>\n",
       "    </tr>\n",
       "  </tbody>\n",
       "</table>\n",
       "</div>"
      ],
      "text/plain": [
       "  REGION DIVISION STATEFP   STATENS GEOID STUSPS      NAME LSAD  MTFCC   \n",
       "2      2        3      17  01779784    17     IL  Illinois   00  G4000  \\\n",
       "\n",
       "  FUNCSTAT         ALAND      AWATER     INTPTLAT      INTPTLON   \n",
       "2        A  143779863817  6215723896  +40.1028754  -089.1526108  \\\n",
       "\n",
       "                                            geometry  \n",
       "2  POLYGON ((-10150700.607 4959063.588, -10149565...  "
      ]
     },
     "execution_count": 31,
     "metadata": {},
     "output_type": "execute_result"
    }
   ],
   "source": [
    "chicago_web = chicago.to_crs(epsg=3857)\n",
    "chicago_web"
   ]
  },
  {
   "cell_type": "code",
   "execution_count": 32,
   "id": "262aae81-2b4c-4f8f-97e7-c9bacf138e6d",
   "metadata": {},
   "outputs": [
    {
     "data": {
      "text/plain": [
       "2    POLYGON ((-10150700.607 4959063.588, -10149565...\n",
       "Name: geometry, dtype: geometry"
      ]
     },
     "execution_count": 32,
     "metadata": {},
     "output_type": "execute_result"
    }
   ],
   "source": [
    "chicago_web['geometry']"
   ]
  },
  {
   "cell_type": "markdown",
   "id": "65c83a10-1561-489d-80f3-787fe2a4d6d3",
   "metadata": {
    "tags": []
   },
   "source": [
    "<a id='point'></a>\n",
    "\n",
    "### 2.2. Point"
   ]
  },
  {
   "cell_type": "markdown",
   "id": "7feb55b6-d2d4-41f9-88f7-deafc61cff14",
   "metadata": {},
   "source": [
    "### From WGS 84 to Web Mercator"
   ]
  },
  {
   "cell_type": "markdown",
   "id": "b8253970-ac89-42c3-936d-39aa46255306",
   "metadata": {},
   "source": [
    "Look at UIUC"
   ]
  },
  {
   "cell_type": "code",
   "execution_count": 35,
   "id": "1390f2c8-ddb3-41a1-82dd-826398a8ccbd",
   "metadata": {},
   "outputs": [],
   "source": [
    "inProj = Proj('epsg:4326')  \n",
    "outProj = Proj('epsg:3857') "
   ]
  },
  {
   "cell_type": "code",
   "execution_count": 38,
   "id": "3ae378d2-3ea9-4fc0-82b8-29588dae54ba",
   "metadata": {},
   "outputs": [
    {
     "name": "stderr",
     "output_type": "stream",
     "text": [
      "/tmp/ipykernel_330/3009123953.py:2: DeprecationWarning: This function is deprecated. See: https://pyproj4.github.io/pyproj/stable/gotchas.html#upgrading-to-pyproj-2-from-pyproj-1\n",
      "  x_web, ymin_web = transform(inProj,outProj,x,y)\n"
     ]
    }
   ],
   "source": [
    "x,y = 40.110558, -88.228333\n",
    "x_web, ymin_web = transform(inProj,outProj,x,y)"
   ]
  },
  {
   "cell_type": "code",
   "execution_count": 39,
   "id": "a7bc8be4-ec9f-485c-bcfc-65fa10ee90e8",
   "metadata": {},
   "outputs": [
    {
     "data": {
      "text/plain": [
       "(-9821533.103099376, 4882021.297250526)"
      ]
     },
     "execution_count": 39,
     "metadata": {},
     "output_type": "execute_result"
    }
   ],
   "source": [
    "x_web, ymin_web"
   ]
  },
  {
   "cell_type": "code",
   "execution_count": null,
   "id": "f4e207db-7b22-4caf-a99f-e8598bc4bd57",
   "metadata": {},
   "outputs": [],
   "source": []
  }
 ],
 "metadata": {
  "kernelspec": {
   "display_name": "Python 3",
   "language": "python",
   "name": "python3"
  },
  "language_info": {
   "codemirror_mode": {
    "name": "ipython",
    "version": 3
   },
   "file_extension": ".py",
   "mimetype": "text/x-python",
   "name": "python",
   "nbconvert_exporter": "python",
   "pygments_lexer": "ipython3",
   "version": "3.8.12"
  }
 },
 "nbformat": 4,
 "nbformat_minor": 5
}
