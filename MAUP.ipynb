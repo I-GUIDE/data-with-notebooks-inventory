{
 "cells": [
  {
   "cell_type": "markdown",
   "id": "e47f4e33-5c48-4422-99fc-ccae884b6d31",
   "metadata": {
    "tags": []
   },
   "source": [
    "# Modifiable areal unit problem (MAUP)"
   ]
  },
  {
   "cell_type": "markdown",
   "id": "132ed936-f233-4154-86a6-2b7dd9861196",
   "metadata": {},
   "source": [
    "The Modifiable Areal Unit Problem (MAUP) is a well-known issue in spatial analysis and geography that arises when aggregating data into different geographic units or scales. It refers to the fact that the results of statistical analyses can vary significantly depending on how the geographic units (e.g., census tracts, zip codes, counties) are defined or delineated.\n",
    "\n",
    "This notebook provides an example of MAUP problem from human sentiments of heat exposure from social media Twitter data in the city of Chicago."
   ]
  },
  {
   "cell_type": "markdown",
   "id": "87e096aa-1394-47a8-a8f8-e20b53559baf",
   "metadata": {},
   "source": [
    "## Notebook Outline\n",
    "- [Processing Twitter/X Data](#processing)\n",
    "- [Understanding How Human Sentiments of Heat Exposure from Tweet Posts](#understand)\n",
    "- [Geographic Unit](#unit)\n",
    "    - [Census Tract](#census)\n",
    "    - [1km Spatial Resolution](#1km)"
   ]
  },
  {
   "cell_type": "code",
   "execution_count": 1,
   "id": "c4acfeff-e276-4f81-9444-769368d9808e",
   "metadata": {},
   "outputs": [
    {
     "name": "stderr",
     "output_type": "stream",
     "text": [
      "/tmp/ipykernel_2583/2312993587.py:5: DeprecationWarning: Shapely 2.0 is installed, but because PyGEOS is also installed, GeoPandas still uses PyGEOS by default. However, starting with version 0.14, the default will switch to Shapely. To force to use Shapely 2.0 now, you can either uninstall PyGEOS or set the environment variable USE_PYGEOS=0. You can do this before starting the Python process, or in your code before importing geopandas:\n",
      "\n",
      "import os\n",
      "os.environ['USE_PYGEOS'] = '0'\n",
      "import geopandas\n",
      "\n",
      "In the next release, GeoPandas will switch to using Shapely by default, even if PyGEOS is installed. If you only have PyGEOS installed to get speed-ups, this switch should be smooth. However, if you are using PyGEOS directly (calling PyGEOS functions on geometries from GeoPandas), this will then stop working and you are encouraged to migrate from PyGEOS to Shapely 2.0 (https://shapely.readthedocs.io/en/latest/migration_pygeos.html).\n",
      "  import geopandas as gpd\n"
     ]
    }
   ],
   "source": [
    "## Import Library\n",
    "import pytz\n",
    "from datetime import datetime, timedelta\n",
    "import os\n",
    "import geopandas as gpd\n",
    "import json\n",
    "from shapely.geometry import Polygon, Point, MultiPolygon\n",
    "import shapefile\n",
    "import re\n",
    "import shapefile as shp  # Requires the pyshp package\n",
    "import matplotlib.pyplot as plt\n",
    "import pandas as pd\n",
    "import matplotlib.colors as mcolors\n",
    "import numpy as np\n",
    "import random\n",
    "import csv"
   ]
  },
  {
   "cell_type": "markdown",
   "id": "861d3878-e98a-4f12-882e-17f0b0f64765",
   "metadata": {
    "tags": []
   },
   "source": [
    "<a id='processing'></a>\n",
    "\n",
    "## 1. Processing Twitter/X Data"
   ]
  },
  {
   "cell_type": "markdown",
   "id": "11fba3dc-088b-4609-9571-7311f376c239",
   "metadata": {},
   "source": [
    "The following cell will allow users to extract and filter the social media data Twitter/X."
   ]
  },
  {
   "cell_type": "code",
   "execution_count": 2,
   "id": "5903c555-d0ad-49ff-b5aa-dcf715fff131",
   "metadata": {},
   "outputs": [],
   "source": [
    "## Load chicago shapefile\n",
    "shapefile = gpd.read_file(\"./geo/geo_export_5bb8636f-65b7-450a-8fd9-7f01027fd84b.shp\")\n",
    "chicago_shape = shapefile[\"geometry\"][0]"
   ]
  },
  {
   "cell_type": "markdown",
   "id": "0b93e169-2624-4c2a-8214-9584208e8926",
   "metadata": {},
   "source": [
    "Filter all the Twitter/X data by location, find all data within the city of Chicago"
   ]
  },
  {
   "cell_type": "code",
   "execution_count": 3,
   "id": "aa3c6a0a-29de-47cb-8390-a0a3eb402a59",
   "metadata": {},
   "outputs": [
    {
     "data": {
      "text/plain": [
       "['250000-tweets-2021-09-26_22-13-26.json',\n",
       " '250000-tweets-2021-09-26_15-10-52.json',\n",
       " '250000-tweets-2021-09-25_20-12-57.json',\n",
       " '250000-tweets-2021-09-26_04-56-08.json',\n",
       " '250000-tweets-2021-09-25_15-34-24.json',\n",
       " '250000-tweets-2021-09-26_01-46-49.json',\n",
       " '250000-tweets-2021-09-26_17-16-06.json',\n",
       " '250000-tweets-2021-09-25_04-59-49.json',\n",
       " '250000-tweets-2021-09-25_07-33-30.json',\n",
       " '250000-tweets-2021-09-26_07-36-30.json',\n",
       " '250000-tweets-2021-09-25_09-29-48.json',\n",
       " '250000-tweets-2021-09-26_09-39-36.json',\n",
       " '250000-tweets-2021-09-25_22-39-35.json',\n",
       " '250000-tweets-2021-09-26_13-18-44.json',\n",
       " '250000-tweets-2021-09-25_01-48-23.json',\n",
       " '250000-tweets-2021-09-25_17-48-51.json',\n",
       " '250000-tweets-2021-09-26_19-43-23.json',\n",
       " '250000-tweets-2021-09-25_13-24-18.json',\n",
       " '250000-tweets-2021-09-26_11-29-11.json',\n",
       " '250000-tweets-2021-09-25_11-25-23.json']"
      ]
     },
     "execution_count": 3,
     "metadata": {},
     "output_type": "execute_result"
    }
   ],
   "source": [
    "## get the twitter in chicago\n",
    "## City scale analysis\n",
    "## This block of code will takes a long time\n",
    "## We iterate through all the twitter collected for find twitter in chicago\n",
    "## Get the filename\n",
    "\n",
    "filelist = os.listdir('./data/')\n",
    "filelist"
   ]
  },
  {
   "cell_type": "code",
   "execution_count": 4,
   "id": "a067e11e-2a4c-4181-b2e0-a6a901566488",
   "metadata": {},
   "outputs": [],
   "source": [
    "## select 5 files on 09-25\n",
    "filelist = ['250000-tweets-2021-09-25_01-48-23.json', \n",
    "            '250000-tweets-2021-09-25_04-59-49.json', \n",
    "            '250000-tweets-2021-09-25_07-33-30.json',\n",
    "            '250000-tweets-2021-09-25_09-29-48.json',\n",
    "            '250000-tweets-2021-09-25_11-25-23.json',\n",
    "           ]\n"
   ]
  },
  {
   "cell_type": "code",
   "execution_count": 5,
   "id": "9931ad1e-220b-48d3-a817-b68aaa215392",
   "metadata": {},
   "outputs": [
    {
     "name": "stdout",
     "output_type": "stream",
     "text": [
      "./data/250000-tweets-2021-09-25_01-48-23.json\n",
      "./data/250000-tweets-2021-09-25_04-59-49.json\n",
      "./data/250000-tweets-2021-09-25_07-33-30.json\n",
      "./data/250000-tweets-2021-09-25_09-29-48.json\n",
      "./data/250000-tweets-2021-09-25_11-25-23.json\n"
     ]
    }
   ],
   "source": [
    "twitter_in_chicago = []\n",
    "# Opening JSON file\n",
    "for filename in filelist:\n",
    "    filepath = \"./data/\"+filename\n",
    "    print(filepath)\n",
    "    f = open(filepath)\n",
    "    data = json.load(f)\n",
    "    \n",
    "    ## Read the data if the centroid of the twitter point polygon lies within the boundary of the city of Chicago\n",
    "    for i in range(0, len(data)):\n",
    "        try:\n",
    "            ##Need to deal with case when the shapefile is too big\n",
    "            text = data[i][\"text\"]\n",
    "            t = data[i]['created_at']\n",
    "            ## Case 1\n",
    "            ## Twitter with exact geospatial location\n",
    "            if (data[i]['geo']!=None):\n",
    "                lat = data[i]['geo']['coordinates'][0]\n",
    "                lon = data[i]['geo']['coordinates'][1]\n",
    "                exact_loc = Point(lon, lat)\n",
    "                if chicago_shape.contains(exact_loc):\n",
    "                    ## print(\"inside\")\n",
    "                    twitter_in_chicago.append((exact_loc, t, text))\n",
    "            else:\n",
    "                ## Twitter with a polygon bounding box\n",
    "                poly = data[i]['place']['bounding_box'][\"coordinates\"][0]\n",
    "                lon = -1000\n",
    "                lat = -1000\n",
    "\n",
    "                lon = [p[0] for p in poly]\n",
    "                lat = [p[1] for p in poly]\n",
    "                centroid = (sum(lon) / len(poly), sum(lat) / len(poly))\n",
    "                point = Point(centroid)\n",
    "                ## check if a centroid is in the bounding box of chicago\n",
    "                if chicago_shape.contains(point):\n",
    "                    ## print(\"inside\")\n",
    "                    twitter_in_chicago.append((poly, t, text))\n",
    "        except:\n",
    "            ## no geographical location\n",
    "            pass\n",
    "    # Closing file\n",
    "    f.close()\n",
    "    data = 0"
   ]
  },
  {
   "cell_type": "markdown",
   "id": "156859e8-7ba0-4f2a-986f-66f9c8d2f699",
   "metadata": {
    "tags": []
   },
   "source": [
    "<a id='understand'></a>\n",
    "\n",
    "## 2. Understanding How Human Sentiments of Heat Exposure from Tweet Posts"
   ]
  },
  {
   "cell_type": "markdown",
   "id": "b0c11b7f-c49f-4010-b7e2-47db97373488",
   "metadata": {},
   "source": [
    "The following cell will allow users to apply heat dictionary generated using pretrained NLP model to understand the Twitter post"
   ]
  },
  {
   "cell_type": "markdown",
   "id": "20cba125-aef3-4e32-8bfc-8f8765df1092",
   "metadata": {},
   "source": [
    "A keyword-based NLP mehtod is adopted to the generated the heat dictionary. And the heat dictionary is used to access whether each Tweet post is talking about weather and how much is it talking about hot/cold weather."
   ]
  },
  {
   "cell_type": "code",
   "execution_count": 6,
   "id": "107d030f-c961-47a1-88a0-5c745f40193d",
   "metadata": {},
   "outputs": [],
   "source": [
    "## Read the word heat dictionary\n",
    "f = open('./geo/data20000.txt','r')\n",
    "content = f.read()\n",
    "f.close()\n",
    "dict_word = {}\n",
    "content_list = content.split(\",\")\n",
    "for i in range(0,len(content_list)):\n",
    "    try:\n",
    "        word = content_list[i].split(\":\")[0].split(\"'\")[1]\n",
    "        #print(content_list[i].split(\":\"))\n",
    "        val = float(content_list[i].split(\":\")[1])\n",
    "        dict_word[word] = val\n",
    "    except:\n",
    "        pass"
   ]
  },
  {
   "cell_type": "markdown",
   "id": "d1872d47-6b0f-4e82-815a-7c5d0be3a685",
   "metadata": {},
   "source": [
    "Apply the heat dictionary onto all the Tweets found in the city of Chicago."
   ]
  },
  {
   "cell_type": "code",
   "execution_count": 7,
   "id": "3654dc18-cbe7-4a5f-9138-1d57ae91e8cf",
   "metadata": {},
   "outputs": [],
   "source": [
    "## Iterate through all twitter data in chicago\n",
    "\n",
    "d_twitter = []\n",
    "for i in range(0, len(twitter_in_chicago)):\n",
    "    loc = twitter_in_chicago[i][0]\n",
    "    t = twitter_in_chicago[i][1]\n",
    "    text = twitter_in_chicago[i][2]\n",
    "    res = re.findall(r'\\w+', text.lower())\n",
    "    val = 0\n",
    "    for word in res:\n",
    "        if word in dict_word.keys():\n",
    "            val = val + dict_word[word]\n",
    "    ## remove weather-irrelevant twitter\n",
    "    ## if none of the word in the heat dictionary show up \n",
    "    if (val!=0):\n",
    "        d_twitter.append((loc, t, val))"
   ]
  },
  {
   "cell_type": "code",
   "execution_count": 8,
   "id": "eeb82714-d3c1-4f8b-8fde-1924b2df4cb9",
   "metadata": {},
   "outputs": [
    {
     "name": "stdout",
     "output_type": "stream",
     "text": [
      "There are 167 weather-related Twitter in Chicago\n"
     ]
    }
   ],
   "source": [
    "print(\"There are \"+str(len(d_twitter))+\" weather-related Twitter in Chicago\")"
   ]
  },
  {
   "cell_type": "markdown",
   "id": "89315cf5-33ff-49e5-9440-b7fa734b8e2d",
   "metadata": {
    "tags": []
   },
   "source": [
    "<a id='unit'></a>\n",
    "\n",
    "## 3. Geographic Unit"
   ]
  },
  {
   "cell_type": "markdown",
   "id": "25746b85-2a7a-4d8d-a745-0df1872ac280",
   "metadata": {},
   "source": [
    "<a id='census'></a>\n",
    "\n",
    "## 3.1. Census Tract"
   ]
  },
  {
   "cell_type": "markdown",
   "id": "19bebbc5-273b-4fe5-91e2-c01bd453b3ef",
   "metadata": {},
   "source": [
    "The following cell will allow users to aggregate the human sentiments of heat exposure from each Tweets to the spaital domain in the city of Chicago."
   ]
  },
  {
   "cell_type": "markdown",
   "id": "6ac6eded-284c-4a29-817d-ab35b26d5e06",
   "metadata": {},
   "source": [
    "Aggregate the result into census tract. [Inverse Distance Weighting (IDW)](https://en.wikipedia.org/wiki/Inverse_distance_weighting) is used when a census tract value is missinng."
   ]
  },
  {
   "cell_type": "code",
   "execution_count": 9,
   "id": "2cdcdbe6-888a-4acc-81f7-1c670d97ea43",
   "metadata": {},
   "outputs": [],
   "source": [
    "## Integrate into census tract level\n",
    "chicago = gpd.read_file(\"./Census_tract/geo_export_dc0b9c70-c036-4bcc-a602-8e9b9d36ea9f.shp\")"
   ]
  },
  {
   "cell_type": "code",
   "execution_count": 10,
   "id": "ccf67a2f-1ce0-4bd6-9498-620515938c47",
   "metadata": {},
   "outputs": [
    {
     "data": {
      "text/html": [
       "<div>\n",
       "<style scoped>\n",
       "    .dataframe tbody tr th:only-of-type {\n",
       "        vertical-align: middle;\n",
       "    }\n",
       "\n",
       "    .dataframe tbody tr th {\n",
       "        vertical-align: top;\n",
       "    }\n",
       "\n",
       "    .dataframe thead th {\n",
       "        text-align: right;\n",
       "    }\n",
       "</style>\n",
       "<table border=\"1\" class=\"dataframe\">\n",
       "  <thead>\n",
       "    <tr style=\"text-align: right;\">\n",
       "      <th></th>\n",
       "      <th>commarea</th>\n",
       "      <th>commarea_n</th>\n",
       "      <th>countyfp10</th>\n",
       "      <th>geoid10</th>\n",
       "      <th>name10</th>\n",
       "      <th>namelsad10</th>\n",
       "      <th>notes</th>\n",
       "      <th>statefp10</th>\n",
       "      <th>tractce10</th>\n",
       "      <th>geometry</th>\n",
       "    </tr>\n",
       "  </thead>\n",
       "  <tbody>\n",
       "    <tr>\n",
       "      <th>0</th>\n",
       "      <td>44</td>\n",
       "      <td>44.0</td>\n",
       "      <td>031</td>\n",
       "      <td>17031842400</td>\n",
       "      <td>8424</td>\n",
       "      <td>Census Tract 8424</td>\n",
       "      <td>NaN</td>\n",
       "      <td>17</td>\n",
       "      <td>842400</td>\n",
       "      <td>POLYGON ((-87.62405 41.73022, -87.62405 41.730...</td>\n",
       "    </tr>\n",
       "    <tr>\n",
       "      <th>1</th>\n",
       "      <td>59</td>\n",
       "      <td>59.0</td>\n",
       "      <td>031</td>\n",
       "      <td>17031840300</td>\n",
       "      <td>8403</td>\n",
       "      <td>Census Tract 8403</td>\n",
       "      <td>NaN</td>\n",
       "      <td>17</td>\n",
       "      <td>840300</td>\n",
       "      <td>POLYGON ((-87.68608 41.82296, -87.68607 41.823...</td>\n",
       "    </tr>\n",
       "    <tr>\n",
       "      <th>2</th>\n",
       "      <td>34</td>\n",
       "      <td>34.0</td>\n",
       "      <td>031</td>\n",
       "      <td>17031841100</td>\n",
       "      <td>8411</td>\n",
       "      <td>Census Tract 8411</td>\n",
       "      <td>NaN</td>\n",
       "      <td>17</td>\n",
       "      <td>841100</td>\n",
       "      <td>POLYGON ((-87.62935 41.85280, -87.62934 41.852...</td>\n",
       "    </tr>\n",
       "    <tr>\n",
       "      <th>3</th>\n",
       "      <td>31</td>\n",
       "      <td>31.0</td>\n",
       "      <td>031</td>\n",
       "      <td>17031841200</td>\n",
       "      <td>8412</td>\n",
       "      <td>Census Tract 8412</td>\n",
       "      <td>NaN</td>\n",
       "      <td>17</td>\n",
       "      <td>841200</td>\n",
       "      <td>POLYGON ((-87.68813 41.85569, -87.68816 41.856...</td>\n",
       "    </tr>\n",
       "    <tr>\n",
       "      <th>4</th>\n",
       "      <td>32</td>\n",
       "      <td>32.0</td>\n",
       "      <td>031</td>\n",
       "      <td>17031839000</td>\n",
       "      <td>8390</td>\n",
       "      <td>Census Tract 8390</td>\n",
       "      <td>NaN</td>\n",
       "      <td>17</td>\n",
       "      <td>839000</td>\n",
       "      <td>POLYGON ((-87.63312 41.87449, -87.63306 41.874...</td>\n",
       "    </tr>\n",
       "    <tr>\n",
       "      <th>...</th>\n",
       "      <td>...</td>\n",
       "      <td>...</td>\n",
       "      <td>...</td>\n",
       "      <td>...</td>\n",
       "      <td>...</td>\n",
       "      <td>...</td>\n",
       "      <td>...</td>\n",
       "      <td>...</td>\n",
       "      <td>...</td>\n",
       "      <td>...</td>\n",
       "    </tr>\n",
       "    <tr>\n",
       "      <th>796</th>\n",
       "      <td>7</td>\n",
       "      <td>7.0</td>\n",
       "      <td>031</td>\n",
       "      <td>17031070400</td>\n",
       "      <td>704</td>\n",
       "      <td>Census Tract 704</td>\n",
       "      <td>NaN</td>\n",
       "      <td>17</td>\n",
       "      <td>070400</td>\n",
       "      <td>POLYGON ((-87.65746 41.93258, -87.65722 41.932...</td>\n",
       "    </tr>\n",
       "    <tr>\n",
       "      <th>797</th>\n",
       "      <td>7</td>\n",
       "      <td>7.0</td>\n",
       "      <td>031</td>\n",
       "      <td>17031070500</td>\n",
       "      <td>705</td>\n",
       "      <td>Census Tract 705</td>\n",
       "      <td>NaN</td>\n",
       "      <td>17</td>\n",
       "      <td>070500</td>\n",
       "      <td>POLYGON ((-87.66349 41.93036, -87.66350 41.930...</td>\n",
       "    </tr>\n",
       "    <tr>\n",
       "      <th>798</th>\n",
       "      <td>13</td>\n",
       "      <td>13.0</td>\n",
       "      <td>031</td>\n",
       "      <td>17031130300</td>\n",
       "      <td>1303</td>\n",
       "      <td>Census Tract 1303</td>\n",
       "      <td>NaN</td>\n",
       "      <td>17</td>\n",
       "      <td>130300</td>\n",
       "      <td>POLYGON ((-87.71436 41.98300, -87.71472 41.982...</td>\n",
       "    </tr>\n",
       "    <tr>\n",
       "      <th>799</th>\n",
       "      <td>29</td>\n",
       "      <td>29.0</td>\n",
       "      <td>031</td>\n",
       "      <td>17031292200</td>\n",
       "      <td>2922</td>\n",
       "      <td>Census Tract 2922</td>\n",
       "      <td>NaN</td>\n",
       "      <td>17</td>\n",
       "      <td>292200</td>\n",
       "      <td>POLYGON ((-87.71317 41.85523, -87.71357 41.855...</td>\n",
       "    </tr>\n",
       "    <tr>\n",
       "      <th>800</th>\n",
       "      <td>63</td>\n",
       "      <td>63.0</td>\n",
       "      <td>031</td>\n",
       "      <td>17031630900</td>\n",
       "      <td>6309</td>\n",
       "      <td>Census Tract 6309</td>\n",
       "      <td>NaN</td>\n",
       "      <td>17</td>\n",
       "      <td>630900</td>\n",
       "      <td>POLYGON ((-87.71129 41.79340, -87.71090 41.793...</td>\n",
       "    </tr>\n",
       "  </tbody>\n",
       "</table>\n",
       "<p>801 rows × 10 columns</p>\n",
       "</div>"
      ],
      "text/plain": [
       "    commarea  commarea_n countyfp10      geoid10 name10         namelsad10  \\\n",
       "0         44        44.0        031  17031842400   8424  Census Tract 8424   \n",
       "1         59        59.0        031  17031840300   8403  Census Tract 8403   \n",
       "2         34        34.0        031  17031841100   8411  Census Tract 8411   \n",
       "3         31        31.0        031  17031841200   8412  Census Tract 8412   \n",
       "4         32        32.0        031  17031839000   8390  Census Tract 8390   \n",
       "..       ...         ...        ...          ...    ...                ...   \n",
       "796        7         7.0        031  17031070400    704   Census Tract 704   \n",
       "797        7         7.0        031  17031070500    705   Census Tract 705   \n",
       "798       13        13.0        031  17031130300   1303  Census Tract 1303   \n",
       "799       29        29.0        031  17031292200   2922  Census Tract 2922   \n",
       "800       63        63.0        031  17031630900   6309  Census Tract 6309   \n",
       "\n",
       "    notes statefp10 tractce10  \\\n",
       "0     NaN        17    842400   \n",
       "1     NaN        17    840300   \n",
       "2     NaN        17    841100   \n",
       "3     NaN        17    841200   \n",
       "4     NaN        17    839000   \n",
       "..    ...       ...       ...   \n",
       "796   NaN        17    070400   \n",
       "797   NaN        17    070500   \n",
       "798   NaN        17    130300   \n",
       "799   NaN        17    292200   \n",
       "800   NaN        17    630900   \n",
       "\n",
       "                                              geometry  \n",
       "0    POLYGON ((-87.62405 41.73022, -87.62405 41.730...  \n",
       "1    POLYGON ((-87.68608 41.82296, -87.68607 41.823...  \n",
       "2    POLYGON ((-87.62935 41.85280, -87.62934 41.852...  \n",
       "3    POLYGON ((-87.68813 41.85569, -87.68816 41.856...  \n",
       "4    POLYGON ((-87.63312 41.87449, -87.63306 41.874...  \n",
       "..                                                 ...  \n",
       "796  POLYGON ((-87.65746 41.93258, -87.65722 41.932...  \n",
       "797  POLYGON ((-87.66349 41.93036, -87.66350 41.930...  \n",
       "798  POLYGON ((-87.71436 41.98300, -87.71472 41.982...  \n",
       "799  POLYGON ((-87.71317 41.85523, -87.71357 41.855...  \n",
       "800  POLYGON ((-87.71129 41.79340, -87.71090 41.793...  \n",
       "\n",
       "[801 rows x 10 columns]"
      ]
     },
     "execution_count": 10,
     "metadata": {},
     "output_type": "execute_result"
    }
   ],
   "source": [
    "chicago"
   ]
  },
  {
   "cell_type": "code",
   "execution_count": 11,
   "id": "97e5db8d-f609-4b6a-9c96-2dac73fb7a3a",
   "metadata": {},
   "outputs": [],
   "source": [
    "## Generate a random point from a polygon\n",
    "import random\n",
    "\n",
    "def generate_random(number, polygon):\n",
    "    minx, miny, maxx, maxy = polygon.bounds\n",
    "    pnt = Point(random.uniform(minx, maxx), random.uniform(miny, maxy))\n",
    "    return pnt"
   ]
  },
  {
   "cell_type": "code",
   "execution_count": 12,
   "id": "7011174f-8602-4cd1-8a1d-b0b502cef22b",
   "metadata": {},
   "outputs": [],
   "source": [
    "## Function to generate random location twitter\n",
    "## For monte caro experiment\n",
    "## Enable exact and poly if you want to see how many twitter has exact location and how many comes with a polygon\n",
    "#exact = 0\n",
    "#poly = 0\n",
    "def generate_random_loc(weather_related_twitter):\n",
    "    random_loc_twitter = []\n",
    "    for ele in weather_related_twitter:\n",
    "        loc = ele[0]\n",
    "        point = 0\n",
    "        #print(loc)\n",
    "        if (type(loc)==Point):\n",
    "            ## exact location extracted\n",
    "            point = loc\n",
    "            #exact = exact+1\n",
    "        else:\n",
    "            ## Select a random point from a multi-polygon\n",
    "            point = generate_random(1, Polygon(loc))\n",
    "            #poly = poly+1\n",
    "        random_loc_twitter.append([point, ele[2]])\n",
    "    return random_loc_twitter"
   ]
  },
  {
   "cell_type": "code",
   "execution_count": 15,
   "id": "cd8c23c8-d95f-43d7-a8b4-12f08b6ac3ba",
   "metadata": {},
   "outputs": [],
   "source": [
    "m_dic = {}\n",
    "m_dic['Jan'] = 1\n",
    "m_dic['Feb'] = 2\n",
    "m_dic['Mar'] = 3\n",
    "m_dic['Apr'] = 4\n",
    "m_dic['May'] = 5\n",
    "m_dic['Jun'] = 6\n",
    "m_dic['Jul'] = 7\n",
    "m_dic['Aug'] = 8\n",
    "m_dic['Sep'] = 9\n",
    "m_dic['Oct'] = 10\n",
    "m_dic['Nov'] = 11\n",
    "m_dic['Dec'] = 12"
   ]
  },
  {
   "cell_type": "code",
   "execution_count": 16,
   "id": "a50d1993-ff67-4cad-a35e-92c40b47cc6f",
   "metadata": {},
   "outputs": [],
   "source": [
    "## Find the time difference between the current time and the Twitter post time\n",
    "today = datetime(2021,9, 25, 0)\n",
    "weather_related_twitter = []\n",
    "sec = []\n",
    "for twitter in d_twitter:\n",
    "    loc = twitter[0]\n",
    "    t = twitter[1].split()\n",
    "    val = twitter[2]\n",
    "    month = m_dic[t[1]]\n",
    "    day = int(t[2])\n",
    "    year = int(t[5])\n",
    "    hour = int(t[3].split(\":\")[0])\n",
    "    minute = int(t[3].split(\":\")[1])\n",
    "    twitter_t = datetime(year, month, day, hour, minute)\n",
    "    diff_minute = abs(twitter_t - today).total_seconds() / 60.0\n",
    "    weather_related_twitter.append((loc, diff_minute, val))\n",
    "    sec.append(diff_minute)"
   ]
  },
  {
   "cell_type": "code",
   "execution_count": 17,
   "id": "be81b90d-8e01-486c-9b7c-72ff824a7ac5",
   "metadata": {},
   "outputs": [
    {
     "name": "stdout",
     "output_type": "stream",
     "text": [
      "current 0\n",
      "current 1\n",
      "current 2\n",
      "current 3\n",
      "current 4\n",
      "current 5\n",
      "current 6\n",
      "current 7\n",
      "current 8\n",
      "current 9\n"
     ]
    }
   ],
   "source": [
    "d_final_census_track = {}\n",
    "\n",
    "for i in range(0, 10):\n",
    "    ## try 10 random time\n",
    "    print(\"current \"+str(i))\n",
    "\n",
    "    ## Conduct kernel density estimation\n",
    "    random_loc_twitter = generate_random_loc(weather_related_twitter)\n",
    "\n",
    "    ### fill with inverse distance weighting\n",
    "\n",
    "\n",
    "    for index, row in chicago.iterrows():\n",
    "        key = index\n",
    "        ele = row['geometry'] \n",
    "        lon = ele.centroid.x\n",
    "        lat = ele.centroid.y\n",
    "        ## iterate through all the values in the existing twitter\n",
    "        up = 0\n",
    "        down = 0\n",
    "        IDW = 0\n",
    "        for twitter in random_loc_twitter:\n",
    "            pt = twitter[0]\n",
    "            curr_x = pt.x\n",
    "            curr_y = pt.y\n",
    "            curr_val = twitter[1]\n",
    "\n",
    "            distx = (curr_x-lon)*82\n",
    "            disty = (curr_y-lat)*111\n",
    "\n",
    "            w = 1/np.sqrt(distx*distx+disty*disty)\n",
    "\n",
    "            down = down+w\n",
    "            up = up+w*curr_val\n",
    "        rt = up/down\n",
    "\n",
    "        if (key not in d_final_census_track.keys()):\n",
    "            d_final_census_track[index]=[rt]\n",
    "        else:\n",
    "            d_final_census_track[index].append(rt)"
   ]
  },
  {
   "cell_type": "markdown",
   "id": "f13f7dc2-da3b-4744-b9ee-b573c4370fc3",
   "metadata": {},
   "source": [
    "Calculate Normalized Human Sentiments of Heat Exposure"
   ]
  },
  {
   "cell_type": "code",
   "execution_count": 18,
   "id": "0868fb81-5cc4-4c6b-b251-7ae946757819",
   "metadata": {},
   "outputs": [],
   "source": [
    "heat_exposure_map_census_track = {}\n",
    "for key in d_final_census_track.keys():\n",
    "    ## Get the average hot exposure\n",
    "    heat_exposure_map_census_track[key] = np.mean(d_final_census_track[key])"
   ]
  },
  {
   "cell_type": "code",
   "execution_count": 19,
   "id": "dda581f9-8356-406b-b2bd-06ad9c66af9a",
   "metadata": {},
   "outputs": [],
   "source": [
    "## nomalization to 0-1\n",
    "mn = min(heat_exposure_map_census_track.values())\n",
    "mx = max(heat_exposure_map_census_track.values())\n",
    "for key in heat_exposure_map_census_track.keys():\n",
    "    norm = (heat_exposure_map_census_track[key]-mn)/(mx-mn)\n",
    "    heat_exposure_map_census_track[key] = norm"
   ]
  },
  {
   "cell_type": "code",
   "execution_count": 20,
   "id": "6a168d90-c2dc-4cbe-96c0-c916bec614d8",
   "metadata": {},
   "outputs": [],
   "source": [
    "chicago[\"he_val\"]=list(heat_exposure_map_census_track.values())"
   ]
  },
  {
   "cell_type": "markdown",
   "id": "66ee5281-d544-41c1-ac61-00054759f005",
   "metadata": {},
   "source": [
    "Show the result geopandas dataframe for visualization"
   ]
  },
  {
   "cell_type": "code",
   "execution_count": 21,
   "id": "d40dd206-c213-4fe2-aa04-40307b679072",
   "metadata": {},
   "outputs": [
    {
     "data": {
      "text/html": [
       "<div>\n",
       "<style scoped>\n",
       "    .dataframe tbody tr th:only-of-type {\n",
       "        vertical-align: middle;\n",
       "    }\n",
       "\n",
       "    .dataframe tbody tr th {\n",
       "        vertical-align: top;\n",
       "    }\n",
       "\n",
       "    .dataframe thead th {\n",
       "        text-align: right;\n",
       "    }\n",
       "</style>\n",
       "<table border=\"1\" class=\"dataframe\">\n",
       "  <thead>\n",
       "    <tr style=\"text-align: right;\">\n",
       "      <th></th>\n",
       "      <th>commarea</th>\n",
       "      <th>commarea_n</th>\n",
       "      <th>countyfp10</th>\n",
       "      <th>geoid10</th>\n",
       "      <th>name10</th>\n",
       "      <th>namelsad10</th>\n",
       "      <th>notes</th>\n",
       "      <th>statefp10</th>\n",
       "      <th>tractce10</th>\n",
       "      <th>geometry</th>\n",
       "      <th>he_val</th>\n",
       "    </tr>\n",
       "  </thead>\n",
       "  <tbody>\n",
       "    <tr>\n",
       "      <th>0</th>\n",
       "      <td>44</td>\n",
       "      <td>44.0</td>\n",
       "      <td>031</td>\n",
       "      <td>17031842400</td>\n",
       "      <td>8424</td>\n",
       "      <td>Census Tract 8424</td>\n",
       "      <td>NaN</td>\n",
       "      <td>17</td>\n",
       "      <td>842400</td>\n",
       "      <td>POLYGON ((-87.62405 41.73022, -87.62405 41.730...</td>\n",
       "      <td>0.714045</td>\n",
       "    </tr>\n",
       "    <tr>\n",
       "      <th>1</th>\n",
       "      <td>59</td>\n",
       "      <td>59.0</td>\n",
       "      <td>031</td>\n",
       "      <td>17031840300</td>\n",
       "      <td>8403</td>\n",
       "      <td>Census Tract 8403</td>\n",
       "      <td>NaN</td>\n",
       "      <td>17</td>\n",
       "      <td>840300</td>\n",
       "      <td>POLYGON ((-87.68608 41.82296, -87.68607 41.823...</td>\n",
       "      <td>0.715444</td>\n",
       "    </tr>\n",
       "    <tr>\n",
       "      <th>2</th>\n",
       "      <td>34</td>\n",
       "      <td>34.0</td>\n",
       "      <td>031</td>\n",
       "      <td>17031841100</td>\n",
       "      <td>8411</td>\n",
       "      <td>Census Tract 8411</td>\n",
       "      <td>NaN</td>\n",
       "      <td>17</td>\n",
       "      <td>841100</td>\n",
       "      <td>POLYGON ((-87.62935 41.85280, -87.62934 41.852...</td>\n",
       "      <td>0.602486</td>\n",
       "    </tr>\n",
       "    <tr>\n",
       "      <th>3</th>\n",
       "      <td>31</td>\n",
       "      <td>31.0</td>\n",
       "      <td>031</td>\n",
       "      <td>17031841200</td>\n",
       "      <td>8412</td>\n",
       "      <td>Census Tract 8412</td>\n",
       "      <td>NaN</td>\n",
       "      <td>17</td>\n",
       "      <td>841200</td>\n",
       "      <td>POLYGON ((-87.68813 41.85569, -87.68816 41.856...</td>\n",
       "      <td>0.730097</td>\n",
       "    </tr>\n",
       "    <tr>\n",
       "      <th>4</th>\n",
       "      <td>32</td>\n",
       "      <td>32.0</td>\n",
       "      <td>031</td>\n",
       "      <td>17031839000</td>\n",
       "      <td>8390</td>\n",
       "      <td>Census Tract 8390</td>\n",
       "      <td>NaN</td>\n",
       "      <td>17</td>\n",
       "      <td>839000</td>\n",
       "      <td>POLYGON ((-87.63312 41.87449, -87.63306 41.874...</td>\n",
       "      <td>0.580736</td>\n",
       "    </tr>\n",
       "    <tr>\n",
       "      <th>...</th>\n",
       "      <td>...</td>\n",
       "      <td>...</td>\n",
       "      <td>...</td>\n",
       "      <td>...</td>\n",
       "      <td>...</td>\n",
       "      <td>...</td>\n",
       "      <td>...</td>\n",
       "      <td>...</td>\n",
       "      <td>...</td>\n",
       "      <td>...</td>\n",
       "      <td>...</td>\n",
       "    </tr>\n",
       "    <tr>\n",
       "      <th>796</th>\n",
       "      <td>7</td>\n",
       "      <td>7.0</td>\n",
       "      <td>031</td>\n",
       "      <td>17031070400</td>\n",
       "      <td>704</td>\n",
       "      <td>Census Tract 704</td>\n",
       "      <td>NaN</td>\n",
       "      <td>17</td>\n",
       "      <td>070400</td>\n",
       "      <td>POLYGON ((-87.65746 41.93258, -87.65722 41.932...</td>\n",
       "      <td>0.436186</td>\n",
       "    </tr>\n",
       "    <tr>\n",
       "      <th>797</th>\n",
       "      <td>7</td>\n",
       "      <td>7.0</td>\n",
       "      <td>031</td>\n",
       "      <td>17031070500</td>\n",
       "      <td>705</td>\n",
       "      <td>Census Tract 705</td>\n",
       "      <td>NaN</td>\n",
       "      <td>17</td>\n",
       "      <td>070500</td>\n",
       "      <td>POLYGON ((-87.66349 41.93036, -87.66350 41.930...</td>\n",
       "      <td>0.472923</td>\n",
       "    </tr>\n",
       "    <tr>\n",
       "      <th>798</th>\n",
       "      <td>13</td>\n",
       "      <td>13.0</td>\n",
       "      <td>031</td>\n",
       "      <td>17031130300</td>\n",
       "      <td>1303</td>\n",
       "      <td>Census Tract 1303</td>\n",
       "      <td>NaN</td>\n",
       "      <td>17</td>\n",
       "      <td>130300</td>\n",
       "      <td>POLYGON ((-87.71436 41.98300, -87.71472 41.982...</td>\n",
       "      <td>0.681256</td>\n",
       "    </tr>\n",
       "    <tr>\n",
       "      <th>799</th>\n",
       "      <td>29</td>\n",
       "      <td>29.0</td>\n",
       "      <td>031</td>\n",
       "      <td>17031292200</td>\n",
       "      <td>2922</td>\n",
       "      <td>Census Tract 2922</td>\n",
       "      <td>NaN</td>\n",
       "      <td>17</td>\n",
       "      <td>292200</td>\n",
       "      <td>POLYGON ((-87.71317 41.85523, -87.71357 41.855...</td>\n",
       "      <td>0.725277</td>\n",
       "    </tr>\n",
       "    <tr>\n",
       "      <th>800</th>\n",
       "      <td>63</td>\n",
       "      <td>63.0</td>\n",
       "      <td>031</td>\n",
       "      <td>17031630900</td>\n",
       "      <td>6309</td>\n",
       "      <td>Census Tract 6309</td>\n",
       "      <td>NaN</td>\n",
       "      <td>17</td>\n",
       "      <td>630900</td>\n",
       "      <td>POLYGON ((-87.71129 41.79340, -87.71090 41.793...</td>\n",
       "      <td>0.745474</td>\n",
       "    </tr>\n",
       "  </tbody>\n",
       "</table>\n",
       "<p>801 rows × 11 columns</p>\n",
       "</div>"
      ],
      "text/plain": [
       "    commarea  commarea_n countyfp10      geoid10 name10         namelsad10  \\\n",
       "0         44        44.0        031  17031842400   8424  Census Tract 8424   \n",
       "1         59        59.0        031  17031840300   8403  Census Tract 8403   \n",
       "2         34        34.0        031  17031841100   8411  Census Tract 8411   \n",
       "3         31        31.0        031  17031841200   8412  Census Tract 8412   \n",
       "4         32        32.0        031  17031839000   8390  Census Tract 8390   \n",
       "..       ...         ...        ...          ...    ...                ...   \n",
       "796        7         7.0        031  17031070400    704   Census Tract 704   \n",
       "797        7         7.0        031  17031070500    705   Census Tract 705   \n",
       "798       13        13.0        031  17031130300   1303  Census Tract 1303   \n",
       "799       29        29.0        031  17031292200   2922  Census Tract 2922   \n",
       "800       63        63.0        031  17031630900   6309  Census Tract 6309   \n",
       "\n",
       "    notes statefp10 tractce10  \\\n",
       "0     NaN        17    842400   \n",
       "1     NaN        17    840300   \n",
       "2     NaN        17    841100   \n",
       "3     NaN        17    841200   \n",
       "4     NaN        17    839000   \n",
       "..    ...       ...       ...   \n",
       "796   NaN        17    070400   \n",
       "797   NaN        17    070500   \n",
       "798   NaN        17    130300   \n",
       "799   NaN        17    292200   \n",
       "800   NaN        17    630900   \n",
       "\n",
       "                                              geometry    he_val  \n",
       "0    POLYGON ((-87.62405 41.73022, -87.62405 41.730...  0.714045  \n",
       "1    POLYGON ((-87.68608 41.82296, -87.68607 41.823...  0.715444  \n",
       "2    POLYGON ((-87.62935 41.85280, -87.62934 41.852...  0.602486  \n",
       "3    POLYGON ((-87.68813 41.85569, -87.68816 41.856...  0.730097  \n",
       "4    POLYGON ((-87.63312 41.87449, -87.63306 41.874...  0.580736  \n",
       "..                                                 ...       ...  \n",
       "796  POLYGON ((-87.65746 41.93258, -87.65722 41.932...  0.436186  \n",
       "797  POLYGON ((-87.66349 41.93036, -87.66350 41.930...  0.472923  \n",
       "798  POLYGON ((-87.71436 41.98300, -87.71472 41.982...  0.681256  \n",
       "799  POLYGON ((-87.71317 41.85523, -87.71357 41.855...  0.725277  \n",
       "800  POLYGON ((-87.71129 41.79340, -87.71090 41.793...  0.745474  \n",
       "\n",
       "[801 rows x 11 columns]"
      ]
     },
     "execution_count": 21,
     "metadata": {},
     "output_type": "execute_result"
    }
   ],
   "source": [
    "chicago"
   ]
  },
  {
   "cell_type": "markdown",
   "id": "8b829958-f5ac-48a7-845f-ecbf7b44aa23",
   "metadata": {},
   "source": [
    "The following cell conduct a census tract level and 1km spatial unit analysis of human sentiments of urban heat in the city of Chicago to investigate the difference in pattern between these two"
   ]
  },
  {
   "cell_type": "code",
   "execution_count": 22,
   "id": "27b3e672-7e0f-4ff3-bb15-1172e441f4b4",
   "metadata": {},
   "outputs": [
    {
     "data": {
      "text/plain": [
       "<Axes: >"
      ]
     },
     "execution_count": 22,
     "metadata": {},
     "output_type": "execute_result"
    },
    {
     "data": {
      "image/png": "[encoded data removed]",
      "text/plain": [
       "<Figure size 2000x1000 with 2 Axes>"
      ]
     },
     "metadata": {},
     "output_type": "display_data"
    }
   ],
   "source": [
    "## Creating Choropleth Map with geopandas \n",
    "chicago.plot(column = 'he_val', #Assign numerical data column\n",
    "                      legend = True, #Decide to show legend or not\n",
    "                      figsize = [20,10],\n",
    "                      cmap = 'YlOrRd',\n",
    "                      legend_kwds = {'label': \"Normalized Heat Exposure\"}) #Name the legend"
   ]
  },
  {
   "cell_type": "markdown",
   "id": "f6fefc23-d016-4750-8562-5d387d83bb65",
   "metadata": {},
   "source": [
    "<a id='1km'></a>\n",
    "\n",
    "## 3.2. 1km Spatial Resolution"
   ]
  },
  {
   "cell_type": "markdown",
   "id": "4cae9c80-6a86-49bd-ad0a-af0796fcb851",
   "metadata": {},
   "source": [
    "The following cell conduct a analysis of human sentiments of urban heat at 1km spatial resolution in the city of Chicago."
   ]
  },
  {
   "cell_type": "code",
   "execution_count": 23,
   "id": "4bf09527-1e37-4d89-829f-f12e0e721380",
   "metadata": {},
   "outputs": [],
   "source": [
    "## Generate raster based about 1 km spatial resoltuion \n",
    "## one Degree latitude = 111 km\n",
    "## In chicago, where latitude = 41.881832, one Degree longitude = 82 km\n",
    "## We use this estimation for the following ananlsis\n",
    "## This work as the city of Chicago is small\n",
    "lat_start = 41.05\n",
    "lon_start = -87.96\n",
    "\n",
    "incre_lat = 1/111\n",
    "incre_lon = 1/82\n",
    "\n",
    "lat_end = 42.05\n",
    "lon_end = -87.5\n",
    "\n",
    "raster = []\n",
    "\n",
    "lat = lat_start\n",
    "\n",
    "while(lat<lat_end):\n",
    "    lon = lon_start\n",
    "    while(lon<lon_end):\n",
    "        curr_point = Point(lon, lat)\n",
    "        if (curr_point.within(chicago_shape)):\n",
    "            raster.append([lon, lat])\n",
    "        lon = lon+incre_lon\n",
    "    lat = lat+incre_lat"
   ]
  },
  {
   "cell_type": "markdown",
   "id": "466bcdf5-9b11-4c00-a9cd-e78220421de2",
   "metadata": {},
   "source": [
    "Generate reuslt for the human sentiments of heat exposure at different timeframe at fine temporal granularity."
   ]
  },
  {
   "cell_type": "code",
   "execution_count": 24,
   "id": "51627e68-6f73-4c69-9285-fca8c8a95602",
   "metadata": {},
   "outputs": [],
   "source": [
    "## Generate a random point from a polygon\n",
    "import random\n",
    "\n",
    "def generate_random(number, polygon):\n",
    "    minx, miny, maxx, maxy = polygon.bounds\n",
    "    pnt = Point(random.uniform(minx, maxx), random.uniform(miny, maxy))\n",
    "    return pnt"
   ]
  },
  {
   "cell_type": "code",
   "execution_count": 25,
   "id": "2268e004-4556-423d-a4f6-0c2da1d4c354",
   "metadata": {},
   "outputs": [],
   "source": [
    "## Function to generate random location twitter\n",
    "## For monte caro experiment\n",
    "## Enable exact and poly if you want to see how many twitter has exact location and how many comes with a polygon\n",
    "#exact = 0\n",
    "#poly = 0\n",
    "def generate_random_loc(weather_related_twitter):\n",
    "    random_loc_twitter = []\n",
    "    for ele in weather_related_twitter:\n",
    "        loc = ele[0]\n",
    "        point = 0\n",
    "        #print(loc)\n",
    "        if (type(loc)==Point):\n",
    "            ## exact location extracted\n",
    "            point = loc\n",
    "            #exact = exact+1\n",
    "        else:\n",
    "            ## Select a random point from a multi-polygon\n",
    "            point = generate_random(1, Polygon(loc))\n",
    "            #poly = poly+1\n",
    "        random_loc_twitter.append([point, ele[2]])\n",
    "    return random_loc_twitter"
   ]
  },
  {
   "cell_type": "markdown",
   "id": "fac43e12-a383-4d78-a902-35bccda83de6",
   "metadata": {},
   "source": [
    "Calcualte the human sentiments of heat exposure. Using Inverse Distance Weighting (IDW) for those spatial unit that doesn't have a points. And using Monte-Carlo simulation to take care of those multi-polygon locations in the social media posts."
   ]
  },
  {
   "cell_type": "code",
   "execution_count": 26,
   "id": "87778752-e867-4f98-ae40-8ad2238f567d",
   "metadata": {},
   "outputs": [
    {
     "name": "stdout",
     "output_type": "stream",
     "text": [
      "current 0\n",
      "current 1\n",
      "current 2\n",
      "current 3\n",
      "current 4\n",
      "current 5\n",
      "current 6\n",
      "current 7\n",
      "current 8\n",
      "current 9\n"
     ]
    }
   ],
   "source": [
    "## Set seed for reproducibility\n",
    "## This may take a while\n",
    "\n",
    "d_final = {}\n",
    "\n",
    "for i in range(0, 10):\n",
    "    ## try 100 random time\n",
    "    print(\"current \"+str(i))\n",
    "\n",
    "    ## Conduct kernel density estimation\n",
    "    random_loc_twitter = generate_random_loc(weather_related_twitter)\n",
    "\n",
    "    ### fill with inverse distance weighting\n",
    "\n",
    "\n",
    "    for ele in raster:\n",
    "        lon = ele[0]\n",
    "        lat = ele[1]\n",
    "        ## iterate through all the values in the existing twitter\n",
    "        up = 0\n",
    "        down = 0\n",
    "        IDW = 0\n",
    "        for twitter in random_loc_twitter:\n",
    "            pt = twitter[0]\n",
    "            curr_x = pt.x\n",
    "            curr_y = pt.y\n",
    "            curr_val = twitter[1]\n",
    "\n",
    "            distx = (curr_x-lon)*82\n",
    "            disty = (curr_y-lat)*111\n",
    "\n",
    "            w = 1/np.sqrt(distx*distx+disty*disty)\n",
    "\n",
    "            down = down+w\n",
    "            up = up+w*curr_val\n",
    "        rt = up/down\n",
    "        \n",
    "        key = (ele[0],ele[1])\n",
    "        if (key not in d_final.keys()):\n",
    "            d_final[key]=[rt]\n",
    "        else:\n",
    "            d_final[key].append(rt)"
   ]
  },
  {
   "cell_type": "code",
   "execution_count": 27,
   "id": "88572421-d6a4-4d72-8607-253a2428ea18",
   "metadata": {},
   "outputs": [],
   "source": [
    "heat_exposure_map = {}\n",
    "for key in d_final.keys():\n",
    "    ## Get the average hot exposure\n",
    "    heat_exposure_map[key] = np.mean(d_final[key])"
   ]
  },
  {
   "cell_type": "code",
   "execution_count": 28,
   "id": "5232962f-9b19-45fe-b3b6-8abb3e92f268",
   "metadata": {},
   "outputs": [],
   "source": [
    "## nomalization to 0-1\n",
    "mn = min(heat_exposure_map.values())\n",
    "mx = max(heat_exposure_map.values())\n",
    "for key in heat_exposure_map.keys():\n",
    "    norm = (heat_exposure_map[key]-mn)/(mx-mn)\n",
    "    heat_exposure_map[key] = norm"
   ]
  },
  {
   "cell_type": "code",
   "execution_count": 29,
   "id": "1c816183-c297-4330-96c8-50eeaedc6fbd",
   "metadata": {},
   "outputs": [],
   "source": [
    "lonl = []\n",
    "latl = []\n",
    "var = []\n",
    "\n",
    "final_heat_exposure_map = {}\n",
    "for key in heat_exposure_map.keys():\n",
    "    \n",
    "    lonl.append(key[0])\n",
    "    latl.append(key[1])\n",
    "    var.append(heat_exposure_map[key])"
   ]
  },
  {
   "cell_type": "code",
   "execution_count": 30,
   "id": "2b7857dc-0ad0-41d3-b7e6-ab6773524ad4",
   "metadata": {},
   "outputs": [],
   "source": [
    "df = pd.DataFrame(np.column_stack([lonl, latl, var]), \n",
    "                  columns=['lon', 'lat', 'val'])"
   ]
  },
  {
   "cell_type": "code",
   "execution_count": 31,
   "id": "11664002-7008-4010-a6c8-a33a7bc21c1a",
   "metadata": {},
   "outputs": [
    {
     "data": {
      "text/html": [
       "<div>\n",
       "<style scoped>\n",
       "    .dataframe tbody tr th:only-of-type {\n",
       "        vertical-align: middle;\n",
       "    }\n",
       "\n",
       "    .dataframe tbody tr th {\n",
       "        vertical-align: top;\n",
       "    }\n",
       "\n",
       "    .dataframe thead th {\n",
       "        text-align: right;\n",
       "    }\n",
       "</style>\n",
       "<table border=\"1\" class=\"dataframe\">\n",
       "  <thead>\n",
       "    <tr style=\"text-align: right;\">\n",
       "      <th></th>\n",
       "      <th>lon</th>\n",
       "      <th>lat</th>\n",
       "      <th>val</th>\n",
       "    </tr>\n",
       "  </thead>\n",
       "  <tbody>\n",
       "    <tr>\n",
       "      <th>0</th>\n",
       "      <td>-87.545366</td>\n",
       "      <td>41.644595</td>\n",
       "      <td>0.512676</td>\n",
       "    </tr>\n",
       "    <tr>\n",
       "      <th>1</th>\n",
       "      <td>-87.533171</td>\n",
       "      <td>41.644595</td>\n",
       "      <td>0.519185</td>\n",
       "    </tr>\n",
       "    <tr>\n",
       "      <th>2</th>\n",
       "      <td>-87.618537</td>\n",
       "      <td>41.653604</td>\n",
       "      <td>0.517446</td>\n",
       "    </tr>\n",
       "    <tr>\n",
       "      <th>3</th>\n",
       "      <td>-87.606341</td>\n",
       "      <td>41.653604</td>\n",
       "      <td>0.512956</td>\n",
       "    </tr>\n",
       "    <tr>\n",
       "      <th>4</th>\n",
       "      <td>-87.594146</td>\n",
       "      <td>41.653604</td>\n",
       "      <td>0.536701</td>\n",
       "    </tr>\n",
       "    <tr>\n",
       "      <th>...</th>\n",
       "      <td>...</td>\n",
       "      <td>...</td>\n",
       "      <td>...</td>\n",
       "    </tr>\n",
       "    <tr>\n",
       "      <th>588</th>\n",
       "      <td>-87.777073</td>\n",
       "      <td>42.013964</td>\n",
       "      <td>0.669155</td>\n",
       "    </tr>\n",
       "    <tr>\n",
       "      <th>589</th>\n",
       "      <td>-87.703902</td>\n",
       "      <td>42.013964</td>\n",
       "      <td>0.710578</td>\n",
       "    </tr>\n",
       "    <tr>\n",
       "      <th>590</th>\n",
       "      <td>-87.691707</td>\n",
       "      <td>42.013964</td>\n",
       "      <td>0.786879</td>\n",
       "    </tr>\n",
       "    <tr>\n",
       "      <th>591</th>\n",
       "      <td>-87.679512</td>\n",
       "      <td>42.013964</td>\n",
       "      <td>0.793865</td>\n",
       "    </tr>\n",
       "    <tr>\n",
       "      <th>592</th>\n",
       "      <td>-87.667317</td>\n",
       "      <td>42.013964</td>\n",
       "      <td>0.696793</td>\n",
       "    </tr>\n",
       "  </tbody>\n",
       "</table>\n",
       "<p>593 rows × 3 columns</p>\n",
       "</div>"
      ],
      "text/plain": [
       "           lon        lat       val\n",
       "0   -87.545366  41.644595  0.512676\n",
       "1   -87.533171  41.644595  0.519185\n",
       "2   -87.618537  41.653604  0.517446\n",
       "3   -87.606341  41.653604  0.512956\n",
       "4   -87.594146  41.653604  0.536701\n",
       "..         ...        ...       ...\n",
       "588 -87.777073  42.013964  0.669155\n",
       "589 -87.703902  42.013964  0.710578\n",
       "590 -87.691707  42.013964  0.786879\n",
       "591 -87.679512  42.013964  0.793865\n",
       "592 -87.667317  42.013964  0.696793\n",
       "\n",
       "[593 rows x 3 columns]"
      ]
     },
     "execution_count": 31,
     "metadata": {},
     "output_type": "execute_result"
    }
   ],
   "source": [
    "df"
   ]
  },
  {
   "cell_type": "code",
   "execution_count": 32,
   "id": "e99074d7-65a6-46cb-9c18-fcdccb80416e",
   "metadata": {},
   "outputs": [
    {
     "data": {
      "text/plain": [
       "array([<Axes: xlabel='lon', ylabel='lat'>], dtype=object)"
      ]
     },
     "execution_count": 32,
     "metadata": {},
     "output_type": "execute_result"
    },
    {
     "data": {
      "image/png": "[encoded data removed]",
      "text/plain": [
       "<Figure size 1000x1000 with 2 Axes>"
      ]
     },
     "metadata": {},
     "output_type": "display_data"
    }
   ],
   "source": [
    "df.plot.scatter(x='lon', y='lat', c='val', figsize = [10,10], subplots=True, marker=\"s\", s = 155, cmap = 'YlOrRd')"
   ]
  }
 ],
 "metadata": {
  "kernelspec": {
   "display_name": "iguide",
   "language": "python",
   "name": "iguide"
  },
  "language_info": {
   "codemirror_mode": {
    "name": "ipython",
    "version": 3
   },
   "file_extension": ".py",
   "mimetype": "text/x-python",
   "name": "python",
   "nbconvert_exporter": "python",
   "pygments_lexer": "ipython3",
   "version": "3.8.16"
  }
 },
 "nbformat": 4,
 "nbformat_minor": 5
}
